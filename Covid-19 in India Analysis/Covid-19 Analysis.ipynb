{
 "cells": [
  {
   "cell_type": "markdown",
   "id": "a08f2bd9",
   "metadata": {},
   "source": [
    "#### Import the necessary libraries"
   ]
  },
  {
   "cell_type": "code",
   "execution_count": 1,
   "id": "159b530d",
   "metadata": {},
   "outputs": [],
   "source": [
    "import pandas as pd\n",
    "import numpy as np\n",
    "import matplotlib.pyplot as plt\n",
    "import seaborn as sns\n",
    "import plotly.express as px"
   ]
  },
  {
   "cell_type": "markdown",
   "id": "1e5a0ffe",
   "metadata": {},
   "source": [
    "#### Load the dataset"
   ]
  },
  {
   "cell_type": "code",
   "execution_count": 2,
   "id": "5559102b",
   "metadata": {},
   "outputs": [
    {
     "data": {
      "text/html": [
       "<div>\n",
       "<style scoped>\n",
       "    .dataframe tbody tr th:only-of-type {\n",
       "        vertical-align: middle;\n",
       "    }\n",
       "\n",
       "    .dataframe tbody tr th {\n",
       "        vertical-align: top;\n",
       "    }\n",
       "\n",
       "    .dataframe thead th {\n",
       "        text-align: right;\n",
       "    }\n",
       "</style>\n",
       "<table border=\"1\" class=\"dataframe\">\n",
       "  <thead>\n",
       "    <tr style=\"text-align: right;\">\n",
       "      <th></th>\n",
       "      <th>Sno</th>\n",
       "      <th>Date</th>\n",
       "      <th>Time</th>\n",
       "      <th>State/UnionTerritory</th>\n",
       "      <th>ConfirmedIndianNational</th>\n",
       "      <th>ConfirmedForeignNational</th>\n",
       "      <th>Cured</th>\n",
       "      <th>Deaths</th>\n",
       "      <th>Confirmed</th>\n",
       "    </tr>\n",
       "  </thead>\n",
       "  <tbody>\n",
       "    <tr>\n",
       "      <th>0</th>\n",
       "      <td>1</td>\n",
       "      <td>2020-01-30</td>\n",
       "      <td>6:00 PM</td>\n",
       "      <td>Kerala</td>\n",
       "      <td>1</td>\n",
       "      <td>0</td>\n",
       "      <td>0</td>\n",
       "      <td>0</td>\n",
       "      <td>1</td>\n",
       "    </tr>\n",
       "    <tr>\n",
       "      <th>1</th>\n",
       "      <td>2</td>\n",
       "      <td>2020-01-31</td>\n",
       "      <td>6:00 PM</td>\n",
       "      <td>Kerala</td>\n",
       "      <td>1</td>\n",
       "      <td>0</td>\n",
       "      <td>0</td>\n",
       "      <td>0</td>\n",
       "      <td>1</td>\n",
       "    </tr>\n",
       "    <tr>\n",
       "      <th>2</th>\n",
       "      <td>3</td>\n",
       "      <td>2020-02-01</td>\n",
       "      <td>6:00 PM</td>\n",
       "      <td>Kerala</td>\n",
       "      <td>2</td>\n",
       "      <td>0</td>\n",
       "      <td>0</td>\n",
       "      <td>0</td>\n",
       "      <td>2</td>\n",
       "    </tr>\n",
       "    <tr>\n",
       "      <th>3</th>\n",
       "      <td>4</td>\n",
       "      <td>2020-02-02</td>\n",
       "      <td>6:00 PM</td>\n",
       "      <td>Kerala</td>\n",
       "      <td>3</td>\n",
       "      <td>0</td>\n",
       "      <td>0</td>\n",
       "      <td>0</td>\n",
       "      <td>3</td>\n",
       "    </tr>\n",
       "    <tr>\n",
       "      <th>4</th>\n",
       "      <td>5</td>\n",
       "      <td>2020-02-03</td>\n",
       "      <td>6:00 PM</td>\n",
       "      <td>Kerala</td>\n",
       "      <td>3</td>\n",
       "      <td>0</td>\n",
       "      <td>0</td>\n",
       "      <td>0</td>\n",
       "      <td>3</td>\n",
       "    </tr>\n",
       "  </tbody>\n",
       "</table>\n",
       "</div>"
      ],
      "text/plain": [
       "   Sno        Date     Time State/UnionTerritory ConfirmedIndianNational   \n",
       "0    1  2020-01-30  6:00 PM               Kerala                       1  \\\n",
       "1    2  2020-01-31  6:00 PM               Kerala                       1   \n",
       "2    3  2020-02-01  6:00 PM               Kerala                       2   \n",
       "3    4  2020-02-02  6:00 PM               Kerala                       3   \n",
       "4    5  2020-02-03  6:00 PM               Kerala                       3   \n",
       "\n",
       "  ConfirmedForeignNational  Cured  Deaths  Confirmed  \n",
       "0                        0      0       0          1  \n",
       "1                        0      0       0          1  \n",
       "2                        0      0       0          2  \n",
       "3                        0      0       0          3  \n",
       "4                        0      0       0          3  "
      ]
     },
     "execution_count": 2,
     "metadata": {},
     "output_type": "execute_result"
    }
   ],
   "source": [
    "covid_df = pd.read_csv('covid_19_india.csv')\n",
    "covid_df.head()"
   ]
  },
  {
   "cell_type": "markdown",
   "id": "82e11e46",
   "metadata": {},
   "source": [
    "#### Display data information"
   ]
  },
  {
   "cell_type": "code",
   "execution_count": 3,
   "id": "fb843e04",
   "metadata": {},
   "outputs": [
    {
     "name": "stdout",
     "output_type": "stream",
     "text": [
      "<class 'pandas.core.frame.DataFrame'>\n",
      "RangeIndex: 18110 entries, 0 to 18109\n",
      "Data columns (total 9 columns):\n",
      " #   Column                    Non-Null Count  Dtype \n",
      "---  ------                    --------------  ----- \n",
      " 0   Sno                       18110 non-null  int64 \n",
      " 1   Date                      18110 non-null  object\n",
      " 2   Time                      18110 non-null  object\n",
      " 3   State/UnionTerritory      18110 non-null  object\n",
      " 4   ConfirmedIndianNational   18110 non-null  object\n",
      " 5   ConfirmedForeignNational  18110 non-null  object\n",
      " 6   Cured                     18110 non-null  int64 \n",
      " 7   Deaths                    18110 non-null  int64 \n",
      " 8   Confirmed                 18110 non-null  int64 \n",
      "dtypes: int64(4), object(5)\n",
      "memory usage: 1.2+ MB\n"
     ]
    }
   ],
   "source": [
    "covid_df.info()"
   ]
  },
  {
   "cell_type": "markdown",
   "id": "cf0573e9",
   "metadata": {},
   "source": [
    "#### Check for null values"
   ]
  },
  {
   "cell_type": "code",
   "execution_count": 4,
   "id": "1922c2d4",
   "metadata": {},
   "outputs": [
    {
     "data": {
      "text/plain": [
       "Sno                         0\n",
       "Date                        0\n",
       "Time                        0\n",
       "State/UnionTerritory        0\n",
       "ConfirmedIndianNational     0\n",
       "ConfirmedForeignNational    0\n",
       "Cured                       0\n",
       "Deaths                      0\n",
       "Confirmed                   0\n",
       "dtype: int64"
      ]
     },
     "execution_count": 4,
     "metadata": {},
     "output_type": "execute_result"
    }
   ],
   "source": [
    "covid_df.isnull().sum()"
   ]
  },
  {
   "cell_type": "markdown",
   "id": "29862188",
   "metadata": {},
   "source": [
    "#### Check for duplicates"
   ]
  },
  {
   "cell_type": "code",
   "execution_count": 5,
   "id": "95bd8080",
   "metadata": {},
   "outputs": [
    {
     "data": {
      "text/plain": [
       "0"
      ]
     },
     "execution_count": 5,
     "metadata": {},
     "output_type": "execute_result"
    }
   ],
   "source": [
    "covid_df.duplicated().sum()"
   ]
  },
  {
   "cell_type": "markdown",
   "id": "5bb340a4",
   "metadata": {},
   "source": [
    "#### Drop unnecessary columns"
   ]
  },
  {
   "cell_type": "code",
   "execution_count": 6,
   "id": "a31ea24e",
   "metadata": {},
   "outputs": [],
   "source": [
    "covid_df.drop(['Sno', 'ConfirmedIndianNational', 'ConfirmedForeignNational'], axis = 1, inplace = True)"
   ]
  },
  {
   "cell_type": "markdown",
   "id": "bbcbfa14",
   "metadata": {},
   "source": [
    "#### Add a new column named 'active'"
   ]
  },
  {
   "cell_type": "code",
   "execution_count": 7,
   "id": "d8b1c38b",
   "metadata": {},
   "outputs": [],
   "source": [
    "covid_df['Active'] = covid_df['Confirmed'] - (covid_df['Cured'] + covid_df['Deaths'])"
   ]
  },
  {
   "cell_type": "markdown",
   "id": "dd419bf8",
   "metadata": {},
   "source": [
    "#### Rename 'State/UnionTerritory' column"
   ]
  },
  {
   "cell_type": "code",
   "execution_count": 8,
   "id": "376e7ac0",
   "metadata": {},
   "outputs": [],
   "source": [
    "covid_df.rename(columns = {'State/UnionTerritory' : 'State'}, inplace = True)"
   ]
  },
  {
   "cell_type": "markdown",
   "id": "2b184590",
   "metadata": {},
   "source": [
    "#### Generate descriptive statistics "
   ]
  },
  {
   "cell_type": "code",
   "execution_count": 9,
   "id": "b274863a",
   "metadata": {},
   "outputs": [
    {
     "data": {
      "text/html": [
       "<div>\n",
       "<style scoped>\n",
       "    .dataframe tbody tr th:only-of-type {\n",
       "        vertical-align: middle;\n",
       "    }\n",
       "\n",
       "    .dataframe tbody tr th {\n",
       "        vertical-align: top;\n",
       "    }\n",
       "\n",
       "    .dataframe thead th {\n",
       "        text-align: right;\n",
       "    }\n",
       "</style>\n",
       "<table border=\"1\" class=\"dataframe\">\n",
       "  <thead>\n",
       "    <tr style=\"text-align: right;\">\n",
       "      <th></th>\n",
       "      <th>count</th>\n",
       "      <th>mean</th>\n",
       "      <th>std</th>\n",
       "      <th>min</th>\n",
       "      <th>25%</th>\n",
       "      <th>50%</th>\n",
       "      <th>75%</th>\n",
       "      <th>max</th>\n",
       "    </tr>\n",
       "  </thead>\n",
       "  <tbody>\n",
       "    <tr>\n",
       "      <th>Cured</th>\n",
       "      <td>18110.0</td>\n",
       "      <td>278637.518056</td>\n",
       "      <td>614890.894424</td>\n",
       "      <td>0.0</td>\n",
       "      <td>3360.25</td>\n",
       "      <td>33364.0</td>\n",
       "      <td>278869.75</td>\n",
       "      <td>6159676.0</td>\n",
       "    </tr>\n",
       "    <tr>\n",
       "      <th>Deaths</th>\n",
       "      <td>18110.0</td>\n",
       "      <td>4052.402264</td>\n",
       "      <td>10919.076411</td>\n",
       "      <td>0.0</td>\n",
       "      <td>32.00</td>\n",
       "      <td>588.0</td>\n",
       "      <td>3643.75</td>\n",
       "      <td>134201.0</td>\n",
       "    </tr>\n",
       "    <tr>\n",
       "      <th>Confirmed</th>\n",
       "      <td>18110.0</td>\n",
       "      <td>301031.401822</td>\n",
       "      <td>656148.872965</td>\n",
       "      <td>0.0</td>\n",
       "      <td>4376.75</td>\n",
       "      <td>39773.5</td>\n",
       "      <td>300149.75</td>\n",
       "      <td>6363442.0</td>\n",
       "    </tr>\n",
       "    <tr>\n",
       "      <th>Active</th>\n",
       "      <td>18110.0</td>\n",
       "      <td>18341.481502</td>\n",
       "      <td>52896.528487</td>\n",
       "      <td>-9368.0</td>\n",
       "      <td>322.00</td>\n",
       "      <td>2305.5</td>\n",
       "      <td>12454.75</td>\n",
       "      <td>701614.0</td>\n",
       "    </tr>\n",
       "  </tbody>\n",
       "</table>\n",
       "</div>"
      ],
      "text/plain": [
       "             count           mean            std     min      25%      50%   \n",
       "Cured      18110.0  278637.518056  614890.894424     0.0  3360.25  33364.0  \\\n",
       "Deaths     18110.0    4052.402264   10919.076411     0.0    32.00    588.0   \n",
       "Confirmed  18110.0  301031.401822  656148.872965     0.0  4376.75  39773.5   \n",
       "Active     18110.0   18341.481502   52896.528487 -9368.0   322.00   2305.5   \n",
       "\n",
       "                 75%        max  \n",
       "Cured      278869.75  6159676.0  \n",
       "Deaths       3643.75   134201.0  \n",
       "Confirmed  300149.75  6363442.0  \n",
       "Active      12454.75   701614.0  "
      ]
     },
     "execution_count": 9,
     "metadata": {},
     "output_type": "execute_result"
    }
   ],
   "source": [
    "covid_df.describe().transpose()"
   ]
  },
  {
   "cell_type": "markdown",
   "id": "8c0ed5f4",
   "metadata": {},
   "source": [
    "#### Change 'Date' column from object format to datetime format"
   ]
  },
  {
   "cell_type": "code",
   "execution_count": 10,
   "id": "f29af2e0",
   "metadata": {},
   "outputs": [],
   "source": [
    "covid_df['Date'] = pd.to_datetime(covid_df['Date'], format = '%Y-%m-%d')"
   ]
  },
  {
   "cell_type": "markdown",
   "id": "556fef74",
   "metadata": {},
   "source": [
    "#### Calculate total confirmed cases"
   ]
  },
  {
   "cell_type": "code",
   "execution_count": 11,
   "id": "e38a7694",
   "metadata": {},
   "outputs": [
    {
     "data": {
      "text/plain": [
       "5451678687"
      ]
     },
     "execution_count": 11,
     "metadata": {},
     "output_type": "execute_result"
    }
   ],
   "source": [
    "np.sum(covid_df['Confirmed'])"
   ]
  },
  {
   "cell_type": "markdown",
   "id": "07c1e532",
   "metadata": {},
   "source": [
    "#### Calculate total deaths cases"
   ]
  },
  {
   "cell_type": "code",
   "execution_count": 12,
   "id": "52b280de",
   "metadata": {},
   "outputs": [
    {
     "data": {
      "text/plain": [
       "73389005"
      ]
     },
     "execution_count": 12,
     "metadata": {},
     "output_type": "execute_result"
    }
   ],
   "source": [
    "np.sum(covid_df['Deaths'])"
   ]
  },
  {
   "cell_type": "markdown",
   "id": "0340ea6e",
   "metadata": {},
   "source": [
    "#### Calculate total cured cases"
   ]
  },
  {
   "cell_type": "code",
   "execution_count": 13,
   "id": "5fe0061a",
   "metadata": {},
   "outputs": [
    {
     "data": {
      "text/plain": [
       "5046125452"
      ]
     },
     "execution_count": 13,
     "metadata": {},
     "output_type": "execute_result"
    }
   ],
   "source": [
    "np.sum(covid_df['Cured'])"
   ]
  },
  {
   "cell_type": "markdown",
   "id": "d260c477",
   "metadata": {},
   "source": [
    "#### Calculate total active cases"
   ]
  },
  {
   "cell_type": "code",
   "execution_count": 14,
   "id": "65ba30a8",
   "metadata": {},
   "outputs": [
    {
     "data": {
      "text/plain": [
       "332164230"
      ]
     },
     "execution_count": 14,
     "metadata": {},
     "output_type": "execute_result"
    }
   ],
   "source": [
    "np.sum(covid_df['Active'])"
   ]
  },
  {
   "cell_type": "markdown",
   "id": "6fbc0d67",
   "metadata": {},
   "source": [
    "#### Create a pivot table"
   ]
  },
  {
   "cell_type": "code",
   "execution_count": 15,
   "id": "0095296e",
   "metadata": {},
   "outputs": [],
   "source": [
    "statewise = pd.pivot_table(covid_df, values = ['Confirmed', 'Cured', 'Deaths'],  index = 'State', aggfunc = max)"
   ]
  },
  {
   "cell_type": "markdown",
   "id": "06a55519",
   "metadata": {},
   "source": [
    "#### Add a new columns to the pivot table named 'Recovery Rate' and Mortality Rate'"
   ]
  },
  {
   "cell_type": "code",
   "execution_count": 16,
   "id": "02b309b4",
   "metadata": {},
   "outputs": [],
   "source": [
    "statewise['Recovery Rate'] = statewise['Cured']/statewise['Confirmed']*100\n",
    "statewise['Mortality Rate'] = statewise['Deaths']/statewise['Confirmed']*100"
   ]
  },
  {
   "cell_type": "markdown",
   "id": "17906c0e",
   "metadata": {},
   "source": [
    "#### Sort the data"
   ]
  },
  {
   "cell_type": "code",
   "execution_count": 17,
   "id": "38dfe6e1",
   "metadata": {},
   "outputs": [],
   "source": [
    "statewise = statewise.sort_values(by = 'Confirmed', ascending = False)"
   ]
  },
  {
   "cell_type": "markdown",
   "id": "70f94602",
   "metadata": {},
   "source": [
    "#### Color cells based on the values they contain using a gradient"
   ]
  },
  {
   "cell_type": "code",
   "execution_count": 18,
   "id": "4f731296",
   "metadata": {},
   "outputs": [
    {
     "data": {
      "text/html": [
       "<style type=\"text/css\">\n",
       "#T_3e68d_row0_col0, #T_3e68d_row0_col1, #T_3e68d_row0_col2, #T_3e68d_row20_col4, #T_3e68d_row39_col3 {\n",
       "  background-color: #ffffff;\n",
       "  color: #000000;\n",
       "}\n",
       "#T_3e68d_row0_col3, #T_3e68d_row31_col3 {\n",
       "  background-color: #f0fbf5;\n",
       "  color: #000000;\n",
       "}\n",
       "#T_3e68d_row0_col4 {\n",
       "  background-color: #c3bff2;\n",
       "  color: #000000;\n",
       "}\n",
       "#T_3e68d_row1_col0, #T_3e68d_row3_col3, #T_3e68d_row4_col3, #T_3e68d_row5_col3, #T_3e68d_row24_col3, #T_3e68d_row27_col3, #T_3e68d_row28_col3, #T_3e68d_row29_col3 {\n",
       "  background-color: #f6fcf8;\n",
       "  color: #000000;\n",
       "}\n",
       "#T_3e68d_row1_col1, #T_3e68d_row1_col2, #T_3e68d_row20_col3, #T_3e68d_row26_col3 {\n",
       "  background-color: #f4fcf7;\n",
       "  color: #000000;\n",
       "}\n",
       "#T_3e68d_row1_col3 {\n",
       "  background-color: #effaf4;\n",
       "  color: #000000;\n",
       "}\n",
       "#T_3e68d_row1_col4 {\n",
       "  background-color: #c4bdf1;\n",
       "  color: #000000;\n",
       "}\n",
       "#T_3e68d_row2_col0 {\n",
       "  background-color: #c57a76;\n",
       "  color: #f1f1f1;\n",
       "}\n",
       "#T_3e68d_row2_col1 {\n",
       "  background-color: #bf796d;\n",
       "  color: #f1f1f1;\n",
       "}\n",
       "#T_3e68d_row2_col2, #T_3e68d_row8_col2, #T_3e68d_row35_col4 {\n",
       "  background-color: #1a213e;\n",
       "  color: #f1f1f1;\n",
       "}\n",
       "#T_3e68d_row2_col3, #T_3e68d_row34_col3 {\n",
       "  background-color: #e7f8f1;\n",
       "  color: #000000;\n",
       "}\n",
       "#T_3e68d_row2_col4, #T_3e68d_row9_col2 {\n",
       "  background-color: #17364c;\n",
       "  color: #f1f1f1;\n",
       "}\n",
       "#T_3e68d_row3_col0, #T_3e68d_row4_col1, #T_3e68d_row4_col4, #T_3e68d_row16_col4 {\n",
       "  background-color: #817a37;\n",
       "  color: #f1f1f1;\n",
       "}\n",
       "#T_3e68d_row3_col1, #T_3e68d_row3_col4 {\n",
       "  background-color: #847a38;\n",
       "  color: #f1f1f1;\n",
       "}\n",
       "#T_3e68d_row3_col2, #T_3e68d_row7_col1 {\n",
       "  background-color: #195d48;\n",
       "  color: #f1f1f1;\n",
       "}\n",
       "#T_3e68d_row4_col0 {\n",
       "  background-color: #7e7a36;\n",
       "  color: #f1f1f1;\n",
       "}\n",
       "#T_3e68d_row4_col2 {\n",
       "  background-color: #185b48;\n",
       "  color: #f1f1f1;\n",
       "}\n",
       "#T_3e68d_row5_col0 {\n",
       "  background-color: #577a2f;\n",
       "  color: #f1f1f1;\n",
       "}\n",
       "#T_3e68d_row5_col1 {\n",
       "  background-color: #5a7a2f;\n",
       "  color: #f1f1f1;\n",
       "}\n",
       "#T_3e68d_row5_col2 {\n",
       "  background-color: #16554b;\n",
       "  color: #f1f1f1;\n",
       "}\n",
       "#T_3e68d_row5_col4, #T_3e68d_row7_col4, #T_3e68d_row17_col4 {\n",
       "  background-color: #997944;\n",
       "  color: #f1f1f1;\n",
       "}\n",
       "#T_3e68d_row6_col0 {\n",
       "  background-color: #22693f;\n",
       "  color: #f1f1f1;\n",
       "}\n",
       "#T_3e68d_row6_col1 {\n",
       "  background-color: #256b3d;\n",
       "  color: #f1f1f1;\n",
       "}\n",
       "#T_3e68d_row6_col2, #T_3e68d_row10_col2 {\n",
       "  background-color: #1a142f;\n",
       "  color: #f1f1f1;\n",
       "}\n",
       "#T_3e68d_row6_col3, #T_3e68d_row7_col3, #T_3e68d_row10_col3, #T_3e68d_row13_col3, #T_3e68d_row14_col3, #T_3e68d_row15_col3, #T_3e68d_row16_col3, #T_3e68d_row17_col3, #T_3e68d_row23_col3, #T_3e68d_row33_col3, #T_3e68d_row38_col3 {\n",
       "  background-color: #fafdfb;\n",
       "  color: #000000;\n",
       "}\n",
       "#T_3e68d_row6_col4 {\n",
       "  background-color: #16534c;\n",
       "  color: #f1f1f1;\n",
       "}\n",
       "#T_3e68d_row7_col0 {\n",
       "  background-color: #175a49;\n",
       "  color: #f1f1f1;\n",
       "}\n",
       "#T_3e68d_row7_col2 {\n",
       "  background-color: #182f49;\n",
       "  color: #f1f1f1;\n",
       "}\n",
       "#T_3e68d_row8_col0 {\n",
       "  background-color: #154e4d;\n",
       "  color: #f1f1f1;\n",
       "}\n",
       "#T_3e68d_row8_col1, #T_3e68d_row11_col4 {\n",
       "  background-color: #15504d;\n",
       "  color: #f1f1f1;\n",
       "}\n",
       "#T_3e68d_row8_col3, #T_3e68d_row9_col3, #T_3e68d_row11_col3, #T_3e68d_row18_col3, #T_3e68d_row19_col3, #T_3e68d_row25_col3, #T_3e68d_row43_col3 {\n",
       "  background-color: #f8fdfa;\n",
       "  color: #000000;\n",
       "}\n",
       "#T_3e68d_row8_col4 {\n",
       "  background-color: #6f7b31;\n",
       "  color: #f1f1f1;\n",
       "}\n",
       "#T_3e68d_row9_col0 {\n",
       "  background-color: #15474e;\n",
       "  color: #f1f1f1;\n",
       "}\n",
       "#T_3e68d_row9_col1 {\n",
       "  background-color: #15494e;\n",
       "  color: #f1f1f1;\n",
       "}\n",
       "#T_3e68d_row9_col4 {\n",
       "  background-color: #d588b5;\n",
       "  color: #f1f1f1;\n",
       "}\n",
       "#T_3e68d_row10_col0, #T_3e68d_row11_col1 {\n",
       "  background-color: #192a46;\n",
       "  color: #f1f1f1;\n",
       "}\n",
       "#T_3e68d_row10_col1 {\n",
       "  background-color: #192c47;\n",
       "  color: #f1f1f1;\n",
       "}\n",
       "#T_3e68d_row10_col4 {\n",
       "  background-color: #9c7946;\n",
       "  color: #f1f1f1;\n",
       "}\n",
       "#T_3e68d_row11_col0, #T_3e68d_row12_col1 {\n",
       "  background-color: #192845;\n",
       "  color: #f1f1f1;\n",
       "}\n",
       "#T_3e68d_row11_col2, #T_3e68d_row25_col0 {\n",
       "  background-color: #110815;\n",
       "  color: #f1f1f1;\n",
       "}\n",
       "#T_3e68d_row12_col0 {\n",
       "  background-color: #1a2744;\n",
       "  color: #f1f1f1;\n",
       "}\n",
       "#T_3e68d_row12_col2, #T_3e68d_row22_col0 {\n",
       "  background-color: #160c1f;\n",
       "  color: #f1f1f1;\n",
       "}\n",
       "#T_3e68d_row12_col3, #T_3e68d_row40_col3, #T_3e68d_row41_col3 {\n",
       "  background-color: #fbfefc;\n",
       "  color: #000000;\n",
       "}\n",
       "#T_3e68d_row12_col4, #T_3e68d_row21_col4 {\n",
       "  background-color: #317236;\n",
       "  color: #f1f1f1;\n",
       "}\n",
       "#T_3e68d_row13_col0, #T_3e68d_row13_col1 {\n",
       "  background-color: #1b1f3d;\n",
       "  color: #f1f1f1;\n",
       "}\n",
       "#T_3e68d_row13_col2 {\n",
       "  background-color: #170e23;\n",
       "  color: #f1f1f1;\n",
       "}\n",
       "#T_3e68d_row13_col4 {\n",
       "  background-color: #787b34;\n",
       "  color: #f1f1f1;\n",
       "}\n",
       "#T_3e68d_row14_col0, #T_3e68d_row15_col0, #T_3e68d_row16_col1, #T_3e68d_row20_col2 {\n",
       "  background-color: #1b1c3a;\n",
       "  color: #f1f1f1;\n",
       "}\n",
       "#T_3e68d_row14_col1, #T_3e68d_row15_col1 {\n",
       "  background-color: #1b1e3b;\n",
       "  color: #f1f1f1;\n",
       "}\n",
       "#T_3e68d_row14_col2, #T_3e68d_row15_col2 {\n",
       "  background-color: #180f25;\n",
       "  color: #f1f1f1;\n",
       "}\n",
       "#T_3e68d_row14_col4, #T_3e68d_row15_col4, #T_3e68d_row18_col4 {\n",
       "  background-color: #967a42;\n",
       "  color: #f1f1f1;\n",
       "}\n",
       "#T_3e68d_row16_col0 {\n",
       "  background-color: #1b1b38;\n",
       "  color: #f1f1f1;\n",
       "}\n",
       "#T_3e68d_row16_col2, #T_3e68d_row17_col2, #T_3e68d_row18_col2 {\n",
       "  background-color: #160d21;\n",
       "  color: #f1f1f1;\n",
       "}\n",
       "#T_3e68d_row17_col0, #T_3e68d_row17_col1, #T_3e68d_row18_col1 {\n",
       "  background-color: #1b1a36;\n",
       "  color: #f1f1f1;\n",
       "}\n",
       "#T_3e68d_row18_col0 {\n",
       "  background-color: #1a1835;\n",
       "  color: #f1f1f1;\n",
       "}\n",
       "#T_3e68d_row19_col0, #T_3e68d_row19_col1 {\n",
       "  background-color: #1a1631;\n",
       "  color: #f1f1f1;\n",
       "}\n",
       "#T_3e68d_row19_col2 {\n",
       "  background-color: #0b040c;\n",
       "  color: #f1f1f1;\n",
       "}\n",
       "#T_3e68d_row19_col4 {\n",
       "  background-color: #15444f;\n",
       "  color: #f1f1f1;\n",
       "}\n",
       "#T_3e68d_row20_col0, #T_3e68d_row20_col1 {\n",
       "  background-color: #19132d;\n",
       "  color: #f1f1f1;\n",
       "}\n",
       "#T_3e68d_row21_col0, #T_3e68d_row21_col1 {\n",
       "  background-color: #19122b;\n",
       "  color: #f1f1f1;\n",
       "}\n",
       "#T_3e68d_row21_col2 {\n",
       "  background-color: #0f0611;\n",
       "  color: #f1f1f1;\n",
       "}\n",
       "#T_3e68d_row21_col3 {\n",
       "  background-color: #f2fbf6;\n",
       "  color: #000000;\n",
       "}\n",
       "#T_3e68d_row22_col1 {\n",
       "  background-color: #140a1b;\n",
       "  color: #f1f1f1;\n",
       "}\n",
       "#T_3e68d_row22_col2, #T_3e68d_row29_col0, #T_3e68d_row29_col1, #T_3e68d_row30_col0, #T_3e68d_row30_col1 {\n",
       "  background-color: #070206;\n",
       "  color: #f1f1f1;\n",
       "}\n",
       "#T_3e68d_row22_col3 {\n",
       "  background-color: #c2d2f3;\n",
       "  color: #000000;\n",
       "}\n",
       "#T_3e68d_row22_col4 {\n",
       "  background-color: #16394d;\n",
       "  color: #f1f1f1;\n",
       "}\n",
       "#T_3e68d_row23_col0, #T_3e68d_row24_col0, #T_3e68d_row24_col1, #T_3e68d_row25_col1 {\n",
       "  background-color: #120817;\n",
       "  color: #f1f1f1;\n",
       "}\n",
       "#T_3e68d_row23_col1, #T_3e68d_row24_col2 {\n",
       "  background-color: #130919;\n",
       "  color: #f1f1f1;\n",
       "}\n",
       "#T_3e68d_row23_col2 {\n",
       "  background-color: #0e050f;\n",
       "  color: #f1f1f1;\n",
       "}\n",
       "#T_3e68d_row23_col4 {\n",
       "  background-color: #b97964;\n",
       "  color: #f1f1f1;\n",
       "}\n",
       "#T_3e68d_row24_col4 {\n",
       "  background-color: #c2c6f3;\n",
       "  color: #000000;\n",
       "}\n",
       "#T_3e68d_row25_col2, #T_3e68d_row26_col0, #T_3e68d_row26_col1, #T_3e68d_row27_col0, #T_3e68d_row27_col1 {\n",
       "  background-color: #0c050e;\n",
       "  color: #f1f1f1;\n",
       "}\n",
       "#T_3e68d_row25_col4 {\n",
       "  background-color: #9f7948;\n",
       "  color: #f1f1f1;\n",
       "}\n",
       "#T_3e68d_row26_col2, #T_3e68d_row27_col2, #T_3e68d_row28_col0, #T_3e68d_row28_col1, #T_3e68d_row28_col2 {\n",
       "  background-color: #0a030a;\n",
       "  color: #f1f1f1;\n",
       "}\n",
       "#T_3e68d_row26_col4, #T_3e68d_row32_col4 {\n",
       "  background-color: #d383a6;\n",
       "  color: #f1f1f1;\n",
       "}\n",
       "#T_3e68d_row27_col4 {\n",
       "  background-color: #d485ac;\n",
       "  color: #f1f1f1;\n",
       "}\n",
       "#T_3e68d_row28_col4 {\n",
       "  background-color: #d392cb;\n",
       "  color: #f1f1f1;\n",
       "}\n",
       "#T_3e68d_row29_col2, #T_3e68d_row30_col2, #T_3e68d_row31_col0, #T_3e68d_row31_col1, #T_3e68d_row39_col4, #T_3e68d_row40_col4 {\n",
       "  background-color: #050205;\n",
       "  color: #f1f1f1;\n",
       "}\n",
       "#T_3e68d_row29_col4 {\n",
       "  background-color: #bc7967;\n",
       "  color: #f1f1f1;\n",
       "}\n",
       "#T_3e68d_row30_col3, #T_3e68d_row32_col3 {\n",
       "  background-color: #dbf3ef;\n",
       "  color: #000000;\n",
       "}\n",
       "#T_3e68d_row30_col4 {\n",
       "  background-color: #ca7c83;\n",
       "  color: #f1f1f1;\n",
       "}\n",
       "#T_3e68d_row31_col2, #T_3e68d_row33_col2, #T_3e68d_row34_col1, #T_3e68d_row35_col0, #T_3e68d_row35_col1, #T_3e68d_row36_col0, #T_3e68d_row36_col1, #T_3e68d_row36_col2, #T_3e68d_row37_col0, #T_3e68d_row37_col1 {\n",
       "  background-color: #020102;\n",
       "  color: #f1f1f1;\n",
       "}\n",
       "#T_3e68d_row31_col4 {\n",
       "  background-color: #357435;\n",
       "  color: #f1f1f1;\n",
       "}\n",
       "#T_3e68d_row32_col0, #T_3e68d_row32_col1, #T_3e68d_row32_col2, #T_3e68d_row33_col0, #T_3e68d_row33_col1, #T_3e68d_row34_col0 {\n",
       "  background-color: #030103;\n",
       "  color: #f1f1f1;\n",
       "}\n",
       "#T_3e68d_row33_col4 {\n",
       "  background-color: #937a40;\n",
       "  color: #f1f1f1;\n",
       "}\n",
       "#T_3e68d_row34_col2, #T_3e68d_row35_col2, #T_3e68d_row37_col2, #T_3e68d_row38_col0, #T_3e68d_row38_col1, #T_3e68d_row38_col2, #T_3e68d_row39_col0, #T_3e68d_row39_col1, #T_3e68d_row39_col2, #T_3e68d_row40_col0, #T_3e68d_row40_col1, #T_3e68d_row40_col2, #T_3e68d_row41_col0, #T_3e68d_row41_col1, #T_3e68d_row41_col2, #T_3e68d_row42_col0, #T_3e68d_row42_col1, #T_3e68d_row42_col2, #T_3e68d_row42_col3, #T_3e68d_row42_col4, #T_3e68d_row43_col0, #T_3e68d_row43_col1, #T_3e68d_row43_col2, #T_3e68d_row44_col0, #T_3e68d_row44_col1, #T_3e68d_row44_col2, #T_3e68d_row44_col3, #T_3e68d_row44_col4, #T_3e68d_row45_col0, #T_3e68d_row45_col1, #T_3e68d_row45_col2, #T_3e68d_row45_col3, #T_3e68d_row45_col4 {\n",
       "  background-color: #000000;\n",
       "  color: #f1f1f1;\n",
       "}\n",
       "#T_3e68d_row34_col4, #T_3e68d_row41_col4 {\n",
       "  background-color: #17344c;\n",
       "  color: #f1f1f1;\n",
       "}\n",
       "#T_3e68d_row35_col3 {\n",
       "  background-color: #caa9e7;\n",
       "  color: #000000;\n",
       "}\n",
       "#T_3e68d_row36_col3 {\n",
       "  background-color: #e0f5f0;\n",
       "  color: #000000;\n",
       "}\n",
       "#T_3e68d_row36_col4 {\n",
       "  background-color: #c8b1ec;\n",
       "  color: #000000;\n",
       "}\n",
       "#T_3e68d_row37_col3 {\n",
       "  background-color: #d1edef;\n",
       "  color: #000000;\n",
       "}\n",
       "#T_3e68d_row37_col4 {\n",
       "  background-color: #877a3a;\n",
       "  color: #f1f1f1;\n",
       "}\n",
       "#T_3e68d_row38_col4 {\n",
       "  background-color: #417731;\n",
       "  color: #f1f1f1;\n",
       "}\n",
       "#T_3e68d_row43_col4 {\n",
       "  background-color: #d484a9;\n",
       "  color: #f1f1f1;\n",
       "}\n",
       "</style>\n",
       "<table id=\"T_3e68d\">\n",
       "  <thead>\n",
       "    <tr>\n",
       "      <th class=\"blank level0\" >&nbsp;</th>\n",
       "      <th id=\"T_3e68d_level0_col0\" class=\"col_heading level0 col0\" >Confirmed</th>\n",
       "      <th id=\"T_3e68d_level0_col1\" class=\"col_heading level0 col1\" >Cured</th>\n",
       "      <th id=\"T_3e68d_level0_col2\" class=\"col_heading level0 col2\" >Deaths</th>\n",
       "      <th id=\"T_3e68d_level0_col3\" class=\"col_heading level0 col3\" >Recovery Rate</th>\n",
       "      <th id=\"T_3e68d_level0_col4\" class=\"col_heading level0 col4\" >Mortality Rate</th>\n",
       "    </tr>\n",
       "    <tr>\n",
       "      <th class=\"index_name level0\" >State</th>\n",
       "      <th class=\"blank col0\" >&nbsp;</th>\n",
       "      <th class=\"blank col1\" >&nbsp;</th>\n",
       "      <th class=\"blank col2\" >&nbsp;</th>\n",
       "      <th class=\"blank col3\" >&nbsp;</th>\n",
       "      <th class=\"blank col4\" >&nbsp;</th>\n",
       "    </tr>\n",
       "  </thead>\n",
       "  <tbody>\n",
       "    <tr>\n",
       "      <th id=\"T_3e68d_level0_row0\" class=\"row_heading level0 row0\" >Maharashtra</th>\n",
       "      <td id=\"T_3e68d_row0_col0\" class=\"data row0 col0\" >6363442</td>\n",
       "      <td id=\"T_3e68d_row0_col1\" class=\"data row0 col1\" >6159676</td>\n",
       "      <td id=\"T_3e68d_row0_col2\" class=\"data row0 col2\" >134201</td>\n",
       "      <td id=\"T_3e68d_row0_col3\" class=\"data row0 col3\" >96.797865</td>\n",
       "      <td id=\"T_3e68d_row0_col4\" class=\"data row0 col4\" >2.108937</td>\n",
       "    </tr>\n",
       "    <tr>\n",
       "      <th id=\"T_3e68d_level0_row1\" class=\"row_heading level0 row1\" >Maharashtra***</th>\n",
       "      <td id=\"T_3e68d_row1_col0\" class=\"data row1 col0\" >6229596</td>\n",
       "      <td id=\"T_3e68d_row1_col1\" class=\"data row1 col1\" >6000911</td>\n",
       "      <td id=\"T_3e68d_row1_col2\" class=\"data row1 col2\" >130753</td>\n",
       "      <td id=\"T_3e68d_row1_col3\" class=\"data row1 col3\" >96.329056</td>\n",
       "      <td id=\"T_3e68d_row1_col4\" class=\"data row1 col4\" >2.098900</td>\n",
       "    </tr>\n",
       "    <tr>\n",
       "      <th id=\"T_3e68d_level0_row2\" class=\"row_heading level0 row2\" >Kerala</th>\n",
       "      <td id=\"T_3e68d_row2_col0\" class=\"data row2 col0\" >3586693</td>\n",
       "      <td id=\"T_3e68d_row2_col1\" class=\"data row2 col1\" >3396184</td>\n",
       "      <td id=\"T_3e68d_row2_col2\" class=\"data row2 col2\" >18004</td>\n",
       "      <td id=\"T_3e68d_row2_col3\" class=\"data row2 col3\" >94.688450</td>\n",
       "      <td id=\"T_3e68d_row2_col4\" class=\"data row2 col4\" >0.501967</td>\n",
       "    </tr>\n",
       "    <tr>\n",
       "      <th id=\"T_3e68d_level0_row3\" class=\"row_heading level0 row3\" >Karnataka</th>\n",
       "      <td id=\"T_3e68d_row3_col0\" class=\"data row3 col0\" >2921049</td>\n",
       "      <td id=\"T_3e68d_row3_col1\" class=\"data row3 col1\" >2861499</td>\n",
       "      <td id=\"T_3e68d_row3_col2\" class=\"data row3 col2\" >36848</td>\n",
       "      <td id=\"T_3e68d_row3_col3\" class=\"data row3 col3\" >97.961349</td>\n",
       "      <td id=\"T_3e68d_row3_col4\" class=\"data row3 col4\" >1.261465</td>\n",
       "    </tr>\n",
       "    <tr>\n",
       "      <th id=\"T_3e68d_level0_row4\" class=\"row_heading level0 row4\" >Karanataka</th>\n",
       "      <td id=\"T_3e68d_row4_col0\" class=\"data row4 col0\" >2885238</td>\n",
       "      <td id=\"T_3e68d_row4_col1\" class=\"data row4 col1\" >2821491</td>\n",
       "      <td id=\"T_3e68d_row4_col2\" class=\"data row4 col2\" >36197</td>\n",
       "      <td id=\"T_3e68d_row4_col3\" class=\"data row4 col3\" >97.790581</td>\n",
       "      <td id=\"T_3e68d_row4_col4\" class=\"data row4 col4\" >1.254559</td>\n",
       "    </tr>\n",
       "    <tr>\n",
       "      <th id=\"T_3e68d_level0_row5\" class=\"row_heading level0 row5\" >Tamil Nadu</th>\n",
       "      <td id=\"T_3e68d_row5_col0\" class=\"data row5 col0\" >2579130</td>\n",
       "      <td id=\"T_3e68d_row5_col1\" class=\"data row5 col1\" >2524400</td>\n",
       "      <td id=\"T_3e68d_row5_col2\" class=\"data row5 col2\" >34367</td>\n",
       "      <td id=\"T_3e68d_row5_col3\" class=\"data row5 col3\" >97.877967</td>\n",
       "      <td id=\"T_3e68d_row5_col4\" class=\"data row5 col4\" >1.332504</td>\n",
       "    </tr>\n",
       "    <tr>\n",
       "      <th id=\"T_3e68d_level0_row6\" class=\"row_heading level0 row6\" >Andhra Pradesh</th>\n",
       "      <td id=\"T_3e68d_row6_col0\" class=\"data row6 col0\" >1985182</td>\n",
       "      <td id=\"T_3e68d_row6_col1\" class=\"data row6 col1\" >1952736</td>\n",
       "      <td id=\"T_3e68d_row6_col2\" class=\"data row6 col2\" >13564</td>\n",
       "      <td id=\"T_3e68d_row6_col3\" class=\"data row6 col3\" >98.365591</td>\n",
       "      <td id=\"T_3e68d_row6_col4\" class=\"data row6 col4\" >0.683262</td>\n",
       "    </tr>\n",
       "    <tr>\n",
       "      <th id=\"T_3e68d_level0_row7\" class=\"row_heading level0 row7\" >Uttar Pradesh</th>\n",
       "      <td id=\"T_3e68d_row7_col0\" class=\"data row7 col0\" >1708812</td>\n",
       "      <td id=\"T_3e68d_row7_col1\" class=\"data row7 col1\" >1685492</td>\n",
       "      <td id=\"T_3e68d_row7_col2\" class=\"data row7 col2\" >22775</td>\n",
       "      <td id=\"T_3e68d_row7_col3\" class=\"data row7 col3\" >98.635309</td>\n",
       "      <td id=\"T_3e68d_row7_col4\" class=\"data row7 col4\" >1.332797</td>\n",
       "    </tr>\n",
       "    <tr>\n",
       "      <th id=\"T_3e68d_level0_row8\" class=\"row_heading level0 row8\" >West Bengal</th>\n",
       "      <td id=\"T_3e68d_row8_col0\" class=\"data row8 col0\" >1534999</td>\n",
       "      <td id=\"T_3e68d_row8_col1\" class=\"data row8 col1\" >1506532</td>\n",
       "      <td id=\"T_3e68d_row8_col2\" class=\"data row8 col2\" >18252</td>\n",
       "      <td id=\"T_3e68d_row8_col3\" class=\"data row8 col3\" >98.145471</td>\n",
       "      <td id=\"T_3e68d_row8_col4\" class=\"data row8 col4\" >1.189056</td>\n",
       "    </tr>\n",
       "    <tr>\n",
       "      <th id=\"T_3e68d_level0_row9\" class=\"row_heading level0 row9\" >Delhi</th>\n",
       "      <td id=\"T_3e68d_row9_col0\" class=\"data row9 col0\" >1436852</td>\n",
       "      <td id=\"T_3e68d_row9_col1\" class=\"data row9 col1\" >1411280</td>\n",
       "      <td id=\"T_3e68d_row9_col2\" class=\"data row9 col2\" >25068</td>\n",
       "      <td id=\"T_3e68d_row9_col3\" class=\"data row9 col3\" >98.220276</td>\n",
       "      <td id=\"T_3e68d_row9_col4\" class=\"data row9 col4\" >1.744647</td>\n",
       "    </tr>\n",
       "    <tr>\n",
       "      <th id=\"T_3e68d_level0_row10\" class=\"row_heading level0 row10\" >Chhattisgarh</th>\n",
       "      <td id=\"T_3e68d_row10_col0\" class=\"data row10 col0\" >1003356</td>\n",
       "      <td id=\"T_3e68d_row10_col1\" class=\"data row10 col1\" >988189</td>\n",
       "      <td id=\"T_3e68d_row10_col2\" class=\"data row10 col2\" >13544</td>\n",
       "      <td id=\"T_3e68d_row10_col3\" class=\"data row10 col3\" >98.488373</td>\n",
       "      <td id=\"T_3e68d_row10_col4\" class=\"data row10 col4\" >1.349870</td>\n",
       "    </tr>\n",
       "    <tr>\n",
       "      <th id=\"T_3e68d_level0_row11\" class=\"row_heading level0 row11\" >Odisha</th>\n",
       "      <td id=\"T_3e68d_row11_col0\" class=\"data row11 col0\" >988997</td>\n",
       "      <td id=\"T_3e68d_row11_col1\" class=\"data row11 col1\" >972710</td>\n",
       "      <td id=\"T_3e68d_row11_col2\" class=\"data row11 col2\" >6565</td>\n",
       "      <td id=\"T_3e68d_row11_col3\" class=\"data row11 col3\" >98.353180</td>\n",
       "      <td id=\"T_3e68d_row11_col4\" class=\"data row11 col4\" >0.663804</td>\n",
       "    </tr>\n",
       "    <tr>\n",
       "      <th id=\"T_3e68d_level0_row12\" class=\"row_heading level0 row12\" >Rajasthan</th>\n",
       "      <td id=\"T_3e68d_row12_col0\" class=\"data row12 col0\" >953851</td>\n",
       "      <td id=\"T_3e68d_row12_col1\" class=\"data row12 col1\" >944700</td>\n",
       "      <td id=\"T_3e68d_row12_col2\" class=\"data row12 col2\" >8954</td>\n",
       "      <td id=\"T_3e68d_row12_col3\" class=\"data row12 col3\" >99.040626</td>\n",
       "      <td id=\"T_3e68d_row12_col4\" class=\"data row12 col4\" >0.938721</td>\n",
       "    </tr>\n",
       "    <tr>\n",
       "      <th id=\"T_3e68d_level0_row13\" class=\"row_heading level0 row13\" >Gujarat</th>\n",
       "      <td id=\"T_3e68d_row13_col0\" class=\"data row13 col0\" >825085</td>\n",
       "      <td id=\"T_3e68d_row13_col1\" class=\"data row13 col1\" >814802</td>\n",
       "      <td id=\"T_3e68d_row13_col2\" class=\"data row13 col2\" >10077</td>\n",
       "      <td id=\"T_3e68d_row13_col3\" class=\"data row13 col3\" >98.753704</td>\n",
       "      <td id=\"T_3e68d_row13_col4\" class=\"data row13 col4\" >1.221329</td>\n",
       "    </tr>\n",
       "    <tr>\n",
       "      <th id=\"T_3e68d_level0_row14\" class=\"row_heading level0 row14\" >Madhya Pradesh</th>\n",
       "      <td id=\"T_3e68d_row14_col0\" class=\"data row14 col0\" >791980</td>\n",
       "      <td id=\"T_3e68d_row14_col1\" class=\"data row14 col1\" >781330</td>\n",
       "      <td id=\"T_3e68d_row14_col2\" class=\"data row14 col2\" >10514</td>\n",
       "      <td id=\"T_3e68d_row14_col3\" class=\"data row14 col3\" >98.655269</td>\n",
       "      <td id=\"T_3e68d_row14_col4\" class=\"data row14 col4\" >1.327559</td>\n",
       "    </tr>\n",
       "    <tr>\n",
       "      <th id=\"T_3e68d_level0_row15\" class=\"row_heading level0 row15\" >Madhya Pradesh***</th>\n",
       "      <td id=\"T_3e68d_row15_col0\" class=\"data row15 col0\" >791656</td>\n",
       "      <td id=\"T_3e68d_row15_col1\" class=\"data row15 col1\" >780735</td>\n",
       "      <td id=\"T_3e68d_row15_col2\" class=\"data row15 col2\" >10506</td>\n",
       "      <td id=\"T_3e68d_row15_col3\" class=\"data row15 col3\" >98.620487</td>\n",
       "      <td id=\"T_3e68d_row15_col4\" class=\"data row15 col4\" >1.327092</td>\n",
       "    </tr>\n",
       "    <tr>\n",
       "      <th id=\"T_3e68d_level0_row16\" class=\"row_heading level0 row16\" >Haryana</th>\n",
       "      <td id=\"T_3e68d_row16_col0\" class=\"data row16 col0\" >770114</td>\n",
       "      <td id=\"T_3e68d_row16_col1\" class=\"data row16 col1\" >759790</td>\n",
       "      <td id=\"T_3e68d_row16_col2\" class=\"data row16 col2\" >9652</td>\n",
       "      <td id=\"T_3e68d_row16_col3\" class=\"data row16 col3\" >98.659419</td>\n",
       "      <td id=\"T_3e68d_row16_col4\" class=\"data row16 col4\" >1.253321</td>\n",
       "    </tr>\n",
       "    <tr>\n",
       "      <th id=\"T_3e68d_level0_row17\" class=\"row_heading level0 row17\" >Bihar</th>\n",
       "      <td id=\"T_3e68d_row17_col0\" class=\"data row17 col0\" >725279</td>\n",
       "      <td id=\"T_3e68d_row17_col1\" class=\"data row17 col1\" >715352</td>\n",
       "      <td id=\"T_3e68d_row17_col2\" class=\"data row17 col2\" >9646</td>\n",
       "      <td id=\"T_3e68d_row17_col3\" class=\"data row17 col3\" >98.631285</td>\n",
       "      <td id=\"T_3e68d_row17_col4\" class=\"data row17 col4\" >1.329971</td>\n",
       "    </tr>\n",
       "    <tr>\n",
       "      <th id=\"T_3e68d_level0_row18\" class=\"row_heading level0 row18\" >Bihar****</th>\n",
       "      <td id=\"T_3e68d_row18_col0\" class=\"data row18 col0\" >715730</td>\n",
       "      <td id=\"T_3e68d_row18_col1\" class=\"data row18 col1\" >701234</td>\n",
       "      <td id=\"T_3e68d_row18_col2\" class=\"data row18 col2\" >9452</td>\n",
       "      <td id=\"T_3e68d_row18_col3\" class=\"data row18 col3\" >97.974655</td>\n",
       "      <td id=\"T_3e68d_row18_col4\" class=\"data row18 col4\" >1.320610</td>\n",
       "    </tr>\n",
       "    <tr>\n",
       "      <th id=\"T_3e68d_level0_row19\" class=\"row_heading level0 row19\" >Telangana</th>\n",
       "      <td id=\"T_3e68d_row19_col0\" class=\"data row19 col0\" >650353</td>\n",
       "      <td id=\"T_3e68d_row19_col1\" class=\"data row19 col1\" >638410</td>\n",
       "      <td id=\"T_3e68d_row19_col2\" class=\"data row19 col2\" >3831</td>\n",
       "      <td id=\"T_3e68d_row19_col3\" class=\"data row19 col3\" >98.163613</td>\n",
       "      <td id=\"T_3e68d_row19_col4\" class=\"data row19 col4\" >0.589065</td>\n",
       "    </tr>\n",
       "    <tr>\n",
       "      <th id=\"T_3e68d_level0_row20\" class=\"row_heading level0 row20\" >Punjab</th>\n",
       "      <td id=\"T_3e68d_row20_col0\" class=\"data row20 col0\" >599573</td>\n",
       "      <td id=\"T_3e68d_row20_col1\" class=\"data row20 col1\" >582791</td>\n",
       "      <td id=\"T_3e68d_row20_col2\" class=\"data row20 col2\" >16322</td>\n",
       "      <td id=\"T_3e68d_row20_col3\" class=\"data row20 col3\" >97.201008</td>\n",
       "      <td id=\"T_3e68d_row20_col4\" class=\"data row20 col4\" >2.722271</td>\n",
       "    </tr>\n",
       "    <tr>\n",
       "      <th id=\"T_3e68d_level0_row21\" class=\"row_heading level0 row21\" >Assam</th>\n",
       "      <td id=\"T_3e68d_row21_col0\" class=\"data row21 col0\" >576149</td>\n",
       "      <td id=\"T_3e68d_row21_col1\" class=\"data row21 col1\" >559684</td>\n",
       "      <td id=\"T_3e68d_row21_col2\" class=\"data row21 col2\" >5420</td>\n",
       "      <td id=\"T_3e68d_row21_col3\" class=\"data row21 col3\" >97.142232</td>\n",
       "      <td id=\"T_3e68d_row21_col4\" class=\"data row21 col4\" >0.940729</td>\n",
       "    </tr>\n",
       "    <tr>\n",
       "      <th id=\"T_3e68d_level0_row22\" class=\"row_heading level0 row22\" >Telengana</th>\n",
       "      <td id=\"T_3e68d_row22_col0\" class=\"data row22 col0\" >443360</td>\n",
       "      <td id=\"T_3e68d_row22_col1\" class=\"data row22 col1\" >362160</td>\n",
       "      <td id=\"T_3e68d_row22_col2\" class=\"data row22 col2\" >2312</td>\n",
       "      <td id=\"T_3e68d_row22_col3\" class=\"data row22 col3\" >81.685312</td>\n",
       "      <td id=\"T_3e68d_row22_col4\" class=\"data row22 col4\" >0.521472</td>\n",
       "    </tr>\n",
       "    <tr>\n",
       "      <th id=\"T_3e68d_level0_row23\" class=\"row_heading level0 row23\" >Jharkhand</th>\n",
       "      <td id=\"T_3e68d_row23_col0\" class=\"data row23 col0\" >347440</td>\n",
       "      <td id=\"T_3e68d_row23_col1\" class=\"data row23 col1\" >342102</td>\n",
       "      <td id=\"T_3e68d_row23_col2\" class=\"data row23 col2\" >5130</td>\n",
       "      <td id=\"T_3e68d_row23_col3\" class=\"data row23 col3\" >98.463620</td>\n",
       "      <td id=\"T_3e68d_row23_col4\" class=\"data row23 col4\" >1.476514</td>\n",
       "    </tr>\n",
       "    <tr>\n",
       "      <th id=\"T_3e68d_level0_row24\" class=\"row_heading level0 row24\" >Uttarakhand</th>\n",
       "      <td id=\"T_3e68d_row24_col0\" class=\"data row24 col0\" >342462</td>\n",
       "      <td id=\"T_3e68d_row24_col1\" class=\"data row24 col1\" >334650</td>\n",
       "      <td id=\"T_3e68d_row24_col2\" class=\"data row24 col2\" >7368</td>\n",
       "      <td id=\"T_3e68d_row24_col3\" class=\"data row24 col3\" >97.718871</td>\n",
       "      <td id=\"T_3e68d_row24_col4\" class=\"data row24 col4\" >2.151480</td>\n",
       "    </tr>\n",
       "    <tr>\n",
       "      <th id=\"T_3e68d_level0_row25\" class=\"row_heading level0 row25\" >Jammu and Kashmir</th>\n",
       "      <td id=\"T_3e68d_row25_col0\" class=\"data row25 col0\" >322771</td>\n",
       "      <td id=\"T_3e68d_row25_col1\" class=\"data row25 col1\" >317081</td>\n",
       "      <td id=\"T_3e68d_row25_col2\" class=\"data row25 col2\" >4392</td>\n",
       "      <td id=\"T_3e68d_row25_col3\" class=\"data row25 col3\" >98.237140</td>\n",
       "      <td id=\"T_3e68d_row25_col4\" class=\"data row25 col4\" >1.360717</td>\n",
       "    </tr>\n",
       "    <tr>\n",
       "      <th id=\"T_3e68d_level0_row26\" class=\"row_heading level0 row26\" >Himachal Pradesh</th>\n",
       "      <td id=\"T_3e68d_row26_col0\" class=\"data row26 col0\" >208616</td>\n",
       "      <td id=\"T_3e68d_row26_col1\" class=\"data row26 col1\" >202761</td>\n",
       "      <td id=\"T_3e68d_row26_col2\" class=\"data row26 col2\" >3537</td>\n",
       "      <td id=\"T_3e68d_row26_col3\" class=\"data row26 col3\" >97.193408</td>\n",
       "      <td id=\"T_3e68d_row26_col4\" class=\"data row26 col4\" >1.695460</td>\n",
       "    </tr>\n",
       "    <tr>\n",
       "      <th id=\"T_3e68d_level0_row27\" class=\"row_heading level0 row27\" >Himanchal Pradesh</th>\n",
       "      <td id=\"T_3e68d_row27_col0\" class=\"data row27 col0\" >204516</td>\n",
       "      <td id=\"T_3e68d_row27_col1\" class=\"data row27 col1\" >200040</td>\n",
       "      <td id=\"T_3e68d_row27_col2\" class=\"data row27 col2\" >3507</td>\n",
       "      <td id=\"T_3e68d_row27_col3\" class=\"data row27 col3\" >97.811418</td>\n",
       "      <td id=\"T_3e68d_row27_col4\" class=\"data row27 col4\" >1.714780</td>\n",
       "    </tr>\n",
       "    <tr>\n",
       "      <th id=\"T_3e68d_level0_row28\" class=\"row_heading level0 row28\" >Goa</th>\n",
       "      <td id=\"T_3e68d_row28_col0\" class=\"data row28 col0\" >172085</td>\n",
       "      <td id=\"T_3e68d_row28_col1\" class=\"data row28 col1\" >167978</td>\n",
       "      <td id=\"T_3e68d_row28_col2\" class=\"data row28 col2\" >3164</td>\n",
       "      <td id=\"T_3e68d_row28_col3\" class=\"data row28 col3\" >97.613389</td>\n",
       "      <td id=\"T_3e68d_row28_col4\" class=\"data row28 col4\" >1.838626</td>\n",
       "    </tr>\n",
       "    <tr>\n",
       "      <th id=\"T_3e68d_level0_row29\" class=\"row_heading level0 row29\" >Puducherry</th>\n",
       "      <td id=\"T_3e68d_row29_col0\" class=\"data row29 col0\" >121766</td>\n",
       "      <td id=\"T_3e68d_row29_col1\" class=\"data row29 col1\" >119115</td>\n",
       "      <td id=\"T_3e68d_row29_col2\" class=\"data row29 col2\" >1800</td>\n",
       "      <td id=\"T_3e68d_row29_col3\" class=\"data row29 col3\" >97.822873</td>\n",
       "      <td id=\"T_3e68d_row29_col4\" class=\"data row29 col4\" >1.478245</td>\n",
       "    </tr>\n",
       "    <tr>\n",
       "      <th id=\"T_3e68d_level0_row30\" class=\"row_heading level0 row30\" >Manipur</th>\n",
       "      <td id=\"T_3e68d_row30_col0\" class=\"data row30 col0\" >105424</td>\n",
       "      <td id=\"T_3e68d_row30_col1\" class=\"data row30 col1\" >96776</td>\n",
       "      <td id=\"T_3e68d_row30_col2\" class=\"data row30 col2\" >1664</td>\n",
       "      <td id=\"T_3e68d_row30_col3\" class=\"data row30 col3\" >91.796934</td>\n",
       "      <td id=\"T_3e68d_row30_col4\" class=\"data row30 col4\" >1.578388</td>\n",
       "    </tr>\n",
       "    <tr>\n",
       "      <th id=\"T_3e68d_level0_row31\" class=\"row_heading level0 row31\" >Tripura</th>\n",
       "      <td id=\"T_3e68d_row31_col0\" class=\"data row31 col0\" >80660</td>\n",
       "      <td id=\"T_3e68d_row31_col1\" class=\"data row31 col1\" >77811</td>\n",
       "      <td id=\"T_3e68d_row31_col2\" class=\"data row31 col2\" >773</td>\n",
       "      <td id=\"T_3e68d_row31_col3\" class=\"data row31 col3\" >96.467890</td>\n",
       "      <td id=\"T_3e68d_row31_col4\" class=\"data row31 col4\" >0.958344</td>\n",
       "    </tr>\n",
       "    <tr>\n",
       "      <th id=\"T_3e68d_level0_row32\" class=\"row_heading level0 row32\" >Meghalaya</th>\n",
       "      <td id=\"T_3e68d_row32_col0\" class=\"data row32 col0\" >69769</td>\n",
       "      <td id=\"T_3e68d_row32_col1\" class=\"data row32 col1\" >64157</td>\n",
       "      <td id=\"T_3e68d_row32_col2\" class=\"data row32 col2\" >1185</td>\n",
       "      <td id=\"T_3e68d_row32_col3\" class=\"data row32 col3\" >91.956313</td>\n",
       "      <td id=\"T_3e68d_row32_col4\" class=\"data row32 col4\" >1.698462</td>\n",
       "    </tr>\n",
       "    <tr>\n",
       "      <th id=\"T_3e68d_level0_row33\" class=\"row_heading level0 row33\" >Chandigarh</th>\n",
       "      <td id=\"T_3e68d_row33_col0\" class=\"data row33 col0\" >61992</td>\n",
       "      <td id=\"T_3e68d_row33_col1\" class=\"data row33 col1\" >61150</td>\n",
       "      <td id=\"T_3e68d_row33_col2\" class=\"data row33 col2\" >811</td>\n",
       "      <td id=\"T_3e68d_row33_col3\" class=\"data row33 col3\" >98.641760</td>\n",
       "      <td id=\"T_3e68d_row33_col4\" class=\"data row33 col4\" >1.308233</td>\n",
       "    </tr>\n",
       "    <tr>\n",
       "      <th id=\"T_3e68d_level0_row34\" class=\"row_heading level0 row34\" >Arunachal Pradesh</th>\n",
       "      <td id=\"T_3e68d_row34_col0\" class=\"data row34 col0\" >50605</td>\n",
       "      <td id=\"T_3e68d_row34_col1\" class=\"data row34 col1\" >47821</td>\n",
       "      <td id=\"T_3e68d_row34_col2\" class=\"data row34 col2\" >248</td>\n",
       "      <td id=\"T_3e68d_row34_col3\" class=\"data row34 col3\" >94.498567</td>\n",
       "      <td id=\"T_3e68d_row34_col4\" class=\"data row34 col4\" >0.490070</td>\n",
       "    </tr>\n",
       "    <tr>\n",
       "      <th id=\"T_3e68d_level0_row35\" class=\"row_heading level0 row35\" >Mizoram</th>\n",
       "      <td id=\"T_3e68d_row35_col0\" class=\"data row35 col0\" >46320</td>\n",
       "      <td id=\"T_3e68d_row35_col1\" class=\"data row35 col1\" >33722</td>\n",
       "      <td id=\"T_3e68d_row35_col2\" class=\"data row35 col2\" >171</td>\n",
       "      <td id=\"T_3e68d_row35_col3\" class=\"data row35 col3\" >72.802245</td>\n",
       "      <td id=\"T_3e68d_row35_col4\" class=\"data row35 col4\" >0.369171</td>\n",
       "    </tr>\n",
       "    <tr>\n",
       "      <th id=\"T_3e68d_level0_row36\" class=\"row_heading level0 row36\" >Nagaland</th>\n",
       "      <td id=\"T_3e68d_row36_col0\" class=\"data row36 col0\" >28811</td>\n",
       "      <td id=\"T_3e68d_row36_col1\" class=\"data row36 col1\" >26852</td>\n",
       "      <td id=\"T_3e68d_row36_col2\" class=\"data row36 col2\" >585</td>\n",
       "      <td id=\"T_3e68d_row36_col3\" class=\"data row36 col3\" >93.200514</td>\n",
       "      <td id=\"T_3e68d_row36_col4\" class=\"data row36 col4\" >2.030474</td>\n",
       "    </tr>\n",
       "    <tr>\n",
       "      <th id=\"T_3e68d_level0_row37\" class=\"row_heading level0 row37\" >Sikkim</th>\n",
       "      <td id=\"T_3e68d_row37_col0\" class=\"data row37 col0\" >28018</td>\n",
       "      <td id=\"T_3e68d_row37_col1\" class=\"data row37 col1\" >25095</td>\n",
       "      <td id=\"T_3e68d_row37_col2\" class=\"data row37 col2\" >356</td>\n",
       "      <td id=\"T_3e68d_row37_col3\" class=\"data row37 col3\" >89.567421</td>\n",
       "      <td id=\"T_3e68d_row37_col4\" class=\"data row37 col4\" >1.270612</td>\n",
       "    </tr>\n",
       "    <tr>\n",
       "      <th id=\"T_3e68d_level0_row38\" class=\"row_heading level0 row38\" >Ladakh</th>\n",
       "      <td id=\"T_3e68d_row38_col0\" class=\"data row38 col0\" >20411</td>\n",
       "      <td id=\"T_3e68d_row38_col1\" class=\"data row38 col1\" >20130</td>\n",
       "      <td id=\"T_3e68d_row38_col2\" class=\"data row38 col2\" >207</td>\n",
       "      <td id=\"T_3e68d_row38_col3\" class=\"data row38 col3\" >98.623291</td>\n",
       "      <td id=\"T_3e68d_row38_col4\" class=\"data row38 col4\" >1.014159</td>\n",
       "    </tr>\n",
       "    <tr>\n",
       "      <th id=\"T_3e68d_level0_row39\" class=\"row_heading level0 row39\" >Dadra and Nagar Haveli and Daman and Diu</th>\n",
       "      <td id=\"T_3e68d_row39_col0\" class=\"data row39 col0\" >10654</td>\n",
       "      <td id=\"T_3e68d_row39_col1\" class=\"data row39 col1\" >10646</td>\n",
       "      <td id=\"T_3e68d_row39_col2\" class=\"data row39 col2\" >4</td>\n",
       "      <td id=\"T_3e68d_row39_col3\" class=\"data row39 col3\" >99.924911</td>\n",
       "      <td id=\"T_3e68d_row39_col4\" class=\"data row39 col4\" >0.037545</td>\n",
       "    </tr>\n",
       "    <tr>\n",
       "      <th id=\"T_3e68d_level0_row40\" class=\"row_heading level0 row40\" >Dadra and Nagar Haveli</th>\n",
       "      <td id=\"T_3e68d_row40_col0\" class=\"data row40 col0\" >10377</td>\n",
       "      <td id=\"T_3e68d_row40_col1\" class=\"data row40 col1\" >10261</td>\n",
       "      <td id=\"T_3e68d_row40_col2\" class=\"data row40 col2\" >4</td>\n",
       "      <td id=\"T_3e68d_row40_col3\" class=\"data row40 col3\" >98.882143</td>\n",
       "      <td id=\"T_3e68d_row40_col4\" class=\"data row40 col4\" >0.038547</td>\n",
       "    </tr>\n",
       "    <tr>\n",
       "      <th id=\"T_3e68d_level0_row41\" class=\"row_heading level0 row41\" >Lakshadweep</th>\n",
       "      <td id=\"T_3e68d_row41_col0\" class=\"data row41 col0\" >10263</td>\n",
       "      <td id=\"T_3e68d_row41_col1\" class=\"data row41 col1\" >10165</td>\n",
       "      <td id=\"T_3e68d_row41_col2\" class=\"data row41 col2\" >51</td>\n",
       "      <td id=\"T_3e68d_row41_col3\" class=\"data row41 col3\" >99.045114</td>\n",
       "      <td id=\"T_3e68d_row41_col4\" class=\"data row41 col4\" >0.496931</td>\n",
       "    </tr>\n",
       "    <tr>\n",
       "      <th id=\"T_3e68d_level0_row42\" class=\"row_heading level0 row42\" >Cases being reassigned to states</th>\n",
       "      <td id=\"T_3e68d_row42_col0\" class=\"data row42 col0\" >9265</td>\n",
       "      <td id=\"T_3e68d_row42_col1\" class=\"data row42 col1\" >0</td>\n",
       "      <td id=\"T_3e68d_row42_col2\" class=\"data row42 col2\" >0</td>\n",
       "      <td id=\"T_3e68d_row42_col3\" class=\"data row42 col3\" >0.000000</td>\n",
       "      <td id=\"T_3e68d_row42_col4\" class=\"data row42 col4\" >0.000000</td>\n",
       "    </tr>\n",
       "    <tr>\n",
       "      <th id=\"T_3e68d_level0_row43\" class=\"row_heading level0 row43\" >Andaman and Nicobar Islands</th>\n",
       "      <td id=\"T_3e68d_row43_col0\" class=\"data row43 col0\" >7548</td>\n",
       "      <td id=\"T_3e68d_row43_col1\" class=\"data row43 col1\" >7412</td>\n",
       "      <td id=\"T_3e68d_row43_col2\" class=\"data row43 col2\" >129</td>\n",
       "      <td id=\"T_3e68d_row43_col3\" class=\"data row43 col3\" >98.198198</td>\n",
       "      <td id=\"T_3e68d_row43_col4\" class=\"data row43 col4\" >1.709062</td>\n",
       "    </tr>\n",
       "    <tr>\n",
       "      <th id=\"T_3e68d_level0_row44\" class=\"row_heading level0 row44\" >Unassigned</th>\n",
       "      <td id=\"T_3e68d_row44_col0\" class=\"data row44 col0\" >77</td>\n",
       "      <td id=\"T_3e68d_row44_col1\" class=\"data row44 col1\" >0</td>\n",
       "      <td id=\"T_3e68d_row44_col2\" class=\"data row44 col2\" >0</td>\n",
       "      <td id=\"T_3e68d_row44_col3\" class=\"data row44 col3\" >0.000000</td>\n",
       "      <td id=\"T_3e68d_row44_col4\" class=\"data row44 col4\" >0.000000</td>\n",
       "    </tr>\n",
       "    <tr>\n",
       "      <th id=\"T_3e68d_level0_row45\" class=\"row_heading level0 row45\" >Daman & Diu</th>\n",
       "      <td id=\"T_3e68d_row45_col0\" class=\"data row45 col0\" >2</td>\n",
       "      <td id=\"T_3e68d_row45_col1\" class=\"data row45 col1\" >0</td>\n",
       "      <td id=\"T_3e68d_row45_col2\" class=\"data row45 col2\" >0</td>\n",
       "      <td id=\"T_3e68d_row45_col3\" class=\"data row45 col3\" >0.000000</td>\n",
       "      <td id=\"T_3e68d_row45_col4\" class=\"data row45 col4\" >0.000000</td>\n",
       "    </tr>\n",
       "  </tbody>\n",
       "</table>\n"
      ],
      "text/plain": [
       "<pandas.io.formats.style.Styler at 0x1b5daf511d0>"
      ]
     },
     "execution_count": 18,
     "metadata": {},
     "output_type": "execute_result"
    }
   ],
   "source": [
    "statewise.style.background_gradient(cmap = 'cubehelix')"
   ]
  },
  {
   "cell_type": "markdown",
   "id": "da908792",
   "metadata": {},
   "source": [
    "#### Group the data based on the 'State' column and sort it based on the 'Active' column within each group"
   ]
  },
  {
   "cell_type": "code",
   "execution_count": 36,
   "id": "dfcbbb89",
   "metadata": {},
   "outputs": [],
   "source": [
    "top_active = covid_df.groupby(by = 'State').max()[['Active', 'Date']].sort_values(by = 'Active', ascending = False).reset_index()"
   ]
  },
  {
   "cell_type": "markdown",
   "id": "a8850466",
   "metadata": {},
   "source": [
    "#### 1. Creates a bar plot to visualize the top 10 states with the most active COVID-19 cases"
   ]
  },
  {
   "cell_type": "code",
   "execution_count": 41,
   "id": "fa4f53d3",
   "metadata": {},
   "outputs": [
    {
     "data": {
      "text/plain": [
       "Text(0, 0.5, 'Total Active Cases')"
      ]
     },
     "execution_count": 41,
     "metadata": {},
     "output_type": "execute_result"
    },
    {
     "data": {
      "image/png": "[encoded data removed]",
      "text/plain": [
       "<Figure size 1400x700 with 1 Axes>"
      ]
     },
     "metadata": {},
     "output_type": "display_data"
    }
   ],
   "source": [
    "plt.figure(figsize = (14,7))\n",
    "plt.title('Top 10 states with most active cases', size = 15)\n",
    "sns.barplot(data = top_active.iloc[:10], y = 'Active', x = 'State')\n",
    "plt.xlabel('States')\n",
    "plt.ylabel('Total Active Cases')"
   ]
  },
  {
   "cell_type": "markdown",
   "id": "881a12fe",
   "metadata": {},
   "source": [
    "#### Group the data based on the 'State' column and sort it based on the 'Deaths' column within each group"
   ]
  },
  {
   "cell_type": "code",
   "execution_count": 42,
   "id": "296b1d36",
   "metadata": {},
   "outputs": [],
   "source": [
    "top_death = covid_df.groupby(by = 'State').max()[['Deaths', 'Date']].sort_values(by = 'Deaths', ascending = False).reset_index()"
   ]
  },
  {
   "cell_type": "markdown",
   "id": "545d8406",
   "metadata": {},
   "source": [
    "#### 2. Create a bar plot to visualize the top 10 states with the most COVID-19 deaths"
   ]
  },
  {
   "cell_type": "code",
   "execution_count": 44,
   "id": "85a6eb1a",
   "metadata": {},
   "outputs": [
    {
     "data": {
      "text/plain": [
       "Text(0, 0.5, 'Total Death')"
      ]
     },
     "execution_count": 44,
     "metadata": {},
     "output_type": "execute_result"
    },
    {
     "data": {
      "image/png": "[encoded data removed]",
      "text/plain": [
       "<Figure size 1400x700 with 1 Axes>"
      ]
     },
     "metadata": {},
     "output_type": "display_data"
    }
   ],
   "source": [
    "plt.figure(figsize = (14,7))\n",
    "plt.title('Top 10 states with most deaths in India', size = 15)\n",
    "sns.barplot(data = top_death.iloc[:10], x = 'State', y = 'Deaths')\n",
    "plt.xlabel('State')\n",
    "plt.ylabel('Total Death')"
   ]
  },
  {
   "cell_type": "markdown",
   "id": "1dc2f42a",
   "metadata": {},
   "source": [
    "#### 3. Creates a line plot to visualize the trend of active COVID-19 cases over time for the top 5 affected states (Maharashtra, Karnataka, Kerala, Tamil Nadu, and Uttar Pradesh)"
   ]
  },
  {
   "cell_type": "code",
   "execution_count": 33,
   "id": "69a5b7f9",
   "metadata": {},
   "outputs": [
    {
     "data": {
      "text/plain": [
       "<Axes: title={'center': 'Top 5 affected states in India'}, xlabel='Date', ylabel='Active'>"
      ]
     },
     "execution_count": 33,
     "metadata": {},
     "output_type": "execute_result"
    },
    {
     "data": {
      "image/png": "[encoded data removed]",
      "text/plain": [
       "<Figure size 1400x700 with 1 Axes>"
      ]
     },
     "metadata": {},
     "output_type": "display_data"
    }
   ],
   "source": [
    "plt.figure(figsize = (14,7))\n",
    "plt.title('Top 5 affected states in India', size = 15)\n",
    "sns.lineplot(data = covid_df[covid_df['State'].isin(['Maharashtra', 'Karnataka', 'Kerala', 'Tamil Nadu', 'Uttar Pradesh'])], x = 'Date', y = 'Active', hue = 'State')"
   ]
  },
  {
   "cell_type": "markdown",
   "id": "9efeaf22",
   "metadata": {},
   "source": [
    "#### Load the second dataset"
   ]
  },
  {
   "cell_type": "code",
   "execution_count": 19,
   "id": "8bf4c3c0",
   "metadata": {},
   "outputs": [
    {
     "data": {
      "text/html": [
       "<div>\n",
       "<style scoped>\n",
       "    .dataframe tbody tr th:only-of-type {\n",
       "        vertical-align: middle;\n",
       "    }\n",
       "\n",
       "    .dataframe tbody tr th {\n",
       "        vertical-align: top;\n",
       "    }\n",
       "\n",
       "    .dataframe thead th {\n",
       "        text-align: right;\n",
       "    }\n",
       "</style>\n",
       "<table border=\"1\" class=\"dataframe\">\n",
       "  <thead>\n",
       "    <tr style=\"text-align: right;\">\n",
       "      <th></th>\n",
       "      <th>Updated On</th>\n",
       "      <th>State</th>\n",
       "      <th>Total Doses Administered</th>\n",
       "      <th>Sessions</th>\n",
       "      <th>Sites</th>\n",
       "      <th>First Dose Administered</th>\n",
       "      <th>Second Dose Administered</th>\n",
       "      <th>Male (Doses Administered)</th>\n",
       "      <th>Female (Doses Administered)</th>\n",
       "      <th>Transgender (Doses Administered)</th>\n",
       "      <th>...</th>\n",
       "      <th>18-44 Years (Doses Administered)</th>\n",
       "      <th>45-60 Years (Doses Administered)</th>\n",
       "      <th>60+ Years (Doses Administered)</th>\n",
       "      <th>18-44 Years(Individuals Vaccinated)</th>\n",
       "      <th>45-60 Years(Individuals Vaccinated)</th>\n",
       "      <th>60+ Years(Individuals Vaccinated)</th>\n",
       "      <th>Male(Individuals Vaccinated)</th>\n",
       "      <th>Female(Individuals Vaccinated)</th>\n",
       "      <th>Transgender(Individuals Vaccinated)</th>\n",
       "      <th>Total Individuals Vaccinated</th>\n",
       "    </tr>\n",
       "  </thead>\n",
       "  <tbody>\n",
       "    <tr>\n",
       "      <th>0</th>\n",
       "      <td>16/01/2021</td>\n",
       "      <td>India</td>\n",
       "      <td>48276.0</td>\n",
       "      <td>3455.0</td>\n",
       "      <td>2957.0</td>\n",
       "      <td>48276.0</td>\n",
       "      <td>0.0</td>\n",
       "      <td>NaN</td>\n",
       "      <td>NaN</td>\n",
       "      <td>NaN</td>\n",
       "      <td>...</td>\n",
       "      <td>NaN</td>\n",
       "      <td>NaN</td>\n",
       "      <td>NaN</td>\n",
       "      <td>NaN</td>\n",
       "      <td>NaN</td>\n",
       "      <td>NaN</td>\n",
       "      <td>23757.0</td>\n",
       "      <td>24517.0</td>\n",
       "      <td>2.0</td>\n",
       "      <td>48276.0</td>\n",
       "    </tr>\n",
       "    <tr>\n",
       "      <th>1</th>\n",
       "      <td>17/01/2021</td>\n",
       "      <td>India</td>\n",
       "      <td>58604.0</td>\n",
       "      <td>8532.0</td>\n",
       "      <td>4954.0</td>\n",
       "      <td>58604.0</td>\n",
       "      <td>0.0</td>\n",
       "      <td>NaN</td>\n",
       "      <td>NaN</td>\n",
       "      <td>NaN</td>\n",
       "      <td>...</td>\n",
       "      <td>NaN</td>\n",
       "      <td>NaN</td>\n",
       "      <td>NaN</td>\n",
       "      <td>NaN</td>\n",
       "      <td>NaN</td>\n",
       "      <td>NaN</td>\n",
       "      <td>27348.0</td>\n",
       "      <td>31252.0</td>\n",
       "      <td>4.0</td>\n",
       "      <td>58604.0</td>\n",
       "    </tr>\n",
       "    <tr>\n",
       "      <th>2</th>\n",
       "      <td>18/01/2021</td>\n",
       "      <td>India</td>\n",
       "      <td>99449.0</td>\n",
       "      <td>13611.0</td>\n",
       "      <td>6583.0</td>\n",
       "      <td>99449.0</td>\n",
       "      <td>0.0</td>\n",
       "      <td>NaN</td>\n",
       "      <td>NaN</td>\n",
       "      <td>NaN</td>\n",
       "      <td>...</td>\n",
       "      <td>NaN</td>\n",
       "      <td>NaN</td>\n",
       "      <td>NaN</td>\n",
       "      <td>NaN</td>\n",
       "      <td>NaN</td>\n",
       "      <td>NaN</td>\n",
       "      <td>41361.0</td>\n",
       "      <td>58083.0</td>\n",
       "      <td>5.0</td>\n",
       "      <td>99449.0</td>\n",
       "    </tr>\n",
       "    <tr>\n",
       "      <th>3</th>\n",
       "      <td>19/01/2021</td>\n",
       "      <td>India</td>\n",
       "      <td>195525.0</td>\n",
       "      <td>17855.0</td>\n",
       "      <td>7951.0</td>\n",
       "      <td>195525.0</td>\n",
       "      <td>0.0</td>\n",
       "      <td>NaN</td>\n",
       "      <td>NaN</td>\n",
       "      <td>NaN</td>\n",
       "      <td>...</td>\n",
       "      <td>NaN</td>\n",
       "      <td>NaN</td>\n",
       "      <td>NaN</td>\n",
       "      <td>NaN</td>\n",
       "      <td>NaN</td>\n",
       "      <td>NaN</td>\n",
       "      <td>81901.0</td>\n",
       "      <td>113613.0</td>\n",
       "      <td>11.0</td>\n",
       "      <td>195525.0</td>\n",
       "    </tr>\n",
       "    <tr>\n",
       "      <th>4</th>\n",
       "      <td>20/01/2021</td>\n",
       "      <td>India</td>\n",
       "      <td>251280.0</td>\n",
       "      <td>25472.0</td>\n",
       "      <td>10504.0</td>\n",
       "      <td>251280.0</td>\n",
       "      <td>0.0</td>\n",
       "      <td>NaN</td>\n",
       "      <td>NaN</td>\n",
       "      <td>NaN</td>\n",
       "      <td>...</td>\n",
       "      <td>NaN</td>\n",
       "      <td>NaN</td>\n",
       "      <td>NaN</td>\n",
       "      <td>NaN</td>\n",
       "      <td>NaN</td>\n",
       "      <td>NaN</td>\n",
       "      <td>98111.0</td>\n",
       "      <td>153145.0</td>\n",
       "      <td>24.0</td>\n",
       "      <td>251280.0</td>\n",
       "    </tr>\n",
       "  </tbody>\n",
       "</table>\n",
       "<p>5 rows × 24 columns</p>\n",
       "</div>"
      ],
      "text/plain": [
       "   Updated On  State  Total Doses Administered  Sessions   Sites    \n",
       "0  16/01/2021  India                   48276.0    3455.0   2957.0  \\\n",
       "1  17/01/2021  India                   58604.0    8532.0   4954.0   \n",
       "2  18/01/2021  India                   99449.0   13611.0   6583.0   \n",
       "3  19/01/2021  India                  195525.0   17855.0   7951.0   \n",
       "4  20/01/2021  India                  251280.0   25472.0  10504.0   \n",
       "\n",
       "   First Dose Administered  Second Dose Administered   \n",
       "0                  48276.0                       0.0  \\\n",
       "1                  58604.0                       0.0   \n",
       "2                  99449.0                       0.0   \n",
       "3                 195525.0                       0.0   \n",
       "4                 251280.0                       0.0   \n",
       "\n",
       "   Male (Doses Administered)  Female (Doses Administered)   \n",
       "0                        NaN                          NaN  \\\n",
       "1                        NaN                          NaN   \n",
       "2                        NaN                          NaN   \n",
       "3                        NaN                          NaN   \n",
       "4                        NaN                          NaN   \n",
       "\n",
       "   Transgender (Doses Administered)  ...  18-44 Years (Doses Administered)   \n",
       "0                               NaN  ...                               NaN  \\\n",
       "1                               NaN  ...                               NaN   \n",
       "2                               NaN  ...                               NaN   \n",
       "3                               NaN  ...                               NaN   \n",
       "4                               NaN  ...                               NaN   \n",
       "\n",
       "   45-60 Years (Doses Administered)  60+ Years (Doses Administered)   \n",
       "0                               NaN                             NaN  \\\n",
       "1                               NaN                             NaN   \n",
       "2                               NaN                             NaN   \n",
       "3                               NaN                             NaN   \n",
       "4                               NaN                             NaN   \n",
       "\n",
       "   18-44 Years(Individuals Vaccinated)  45-60 Years(Individuals Vaccinated)   \n",
       "0                                  NaN                                  NaN  \\\n",
       "1                                  NaN                                  NaN   \n",
       "2                                  NaN                                  NaN   \n",
       "3                                  NaN                                  NaN   \n",
       "4                                  NaN                                  NaN   \n",
       "\n",
       "   60+ Years(Individuals Vaccinated)  Male(Individuals Vaccinated)   \n",
       "0                                NaN                       23757.0  \\\n",
       "1                                NaN                       27348.0   \n",
       "2                                NaN                       41361.0   \n",
       "3                                NaN                       81901.0   \n",
       "4                                NaN                       98111.0   \n",
       "\n",
       "   Female(Individuals Vaccinated)  Transgender(Individuals Vaccinated)   \n",
       "0                         24517.0                                  2.0  \\\n",
       "1                         31252.0                                  4.0   \n",
       "2                         58083.0                                  5.0   \n",
       "3                        113613.0                                 11.0   \n",
       "4                        153145.0                                 24.0   \n",
       "\n",
       "   Total Individuals Vaccinated  \n",
       "0                       48276.0  \n",
       "1                       58604.0  \n",
       "2                       99449.0  \n",
       "3                      195525.0  \n",
       "4                      251280.0  \n",
       "\n",
       "[5 rows x 24 columns]"
      ]
     },
     "execution_count": 19,
     "metadata": {},
     "output_type": "execute_result"
    }
   ],
   "source": [
    "vaccine_df = pd.read_csv('covid_vaccine_statewise.csv')\n",
    "vaccine_df.head()"
   ]
  },
  {
   "cell_type": "markdown",
   "id": "008dac62",
   "metadata": {},
   "source": [
    "#### Drop unnecessary columns"
   ]
  },
  {
   "cell_type": "code",
   "execution_count": 20,
   "id": "33460646",
   "metadata": {},
   "outputs": [],
   "source": [
    "vaccine = vaccine_df.drop(columns = ['Sputnik V (Doses Administered)', 'AEFI', '18-44 Years (Doses Administered)', '45-60 Years (Doses Administered)', '60+ Years (Doses Administered)'], axis = 1)"
   ]
  },
  {
   "cell_type": "markdown",
   "id": "02e1318c",
   "metadata": {},
   "source": [
    "#### Rename 'Updated On' and 'Total Individuals Vaccinated' columns"
   ]
  },
  {
   "cell_type": "code",
   "execution_count": 21,
   "id": "b6daa9fb",
   "metadata": {},
   "outputs": [],
   "source": [
    "vaccine_df.rename(columns={'Updated On': 'Vaccine Date', 'Total Individuals Vaccinated': 'Total'}, inplace=True)"
   ]
  },
  {
   "cell_type": "markdown",
   "id": "77c98c09",
   "metadata": {},
   "source": [
    "#### Calculates the total number of individuals vaccinated (Male and Female)"
   ]
  },
  {
   "cell_type": "code",
   "execution_count": 22,
   "id": "124f5a02",
   "metadata": {},
   "outputs": [],
   "source": [
    "Male = vaccine['Male(Individuals Vaccinated)'].sum()\n",
    "Female = vaccine['Female(Individuals Vaccinated)'].sum()"
   ]
  },
  {
   "cell_type": "markdown",
   "id": "9adbbc7f",
   "metadata": {},
   "source": [
    "#### 4. Create a pie chart, representing the total number of vaccinated males and females, respectively"
   ]
  },
  {
   "cell_type": "code",
   "execution_count": 31,
   "id": "c89ae53a",
   "metadata": {},
   "outputs": [
    {
     "data": {
      "application/vnd.plotly.v1+json": {
       "config": {
        "plotlyServerURL": "https://plot.ly"
       },
       "data": [
        {
         "domain": {
          "x": [
           0,
           1
          ],
          "y": [
           0,
           1
          ]
         },
         "hovertemplate": "label=%{label}<br>value=%{value}<extra></extra>",
         "labels": [
          "Male",
          "Female"
         ],
         "legendgroup": "",
         "name": "",
         "showlegend": true,
         "type": "pie",
         "values": [
          7138698858,
          6321628736
         ]
        }
       ],
       "layout": {
        "legend": {
         "tracegroupgap": 0
        },
        "template": {
         "data": {
          "bar": [
           {
            "error_x": {
             "color": "#2a3f5f"
            },
            "error_y": {
             "color": "#2a3f5f"
            },
            "marker": {
             "line": {
              "color": "#E5ECF6",
              "width": 0.5
             },
             "pattern": {
              "fillmode": "overlay",
              "size": 10,
              "solidity": 0.2
             }
            },
            "type": "bar"
           }
          ],
          "barpolar": [
           {
            "marker": {
             "line": {
              "color": "#E5ECF6",
              "width": 0.5
             },
             "pattern": {
              "fillmode": "overlay",
              "size": 10,
              "solidity": 0.2
             }
            },
            "type": "barpolar"
           }
          ],
          "carpet": [
           {
            "aaxis": {
             "endlinecolor": "#2a3f5f",
             "gridcolor": "white",
             "linecolor": "white",
             "minorgridcolor": "white",
             "startlinecolor": "#2a3f5f"
            },
            "baxis": {
             "endlinecolor": "#2a3f5f",
             "gridcolor": "white",
             "linecolor": "white",
             "minorgridcolor": "white",
             "startlinecolor": "#2a3f5f"
            },
            "type": "carpet"
           }
          ],
          "choropleth": [
           {
            "colorbar": {
             "outlinewidth": 0,
             "ticks": ""
            },
            "type": "choropleth"
           }
          ],
          "contour": [
           {
            "colorbar": {
             "outlinewidth": 0,
             "ticks": ""
            },
            "colorscale": [
             [
              0,
              "#0d0887"
             ],
             [
              0.1111111111111111,
              "#46039f"
             ],
             [
              0.2222222222222222,
              "#7201a8"
             ],
             [
              0.3333333333333333,
              "#9c179e"
             ],
             [
              0.4444444444444444,
              "#bd3786"
             ],
             [
              0.5555555555555556,
              "#d8576b"
             ],
             [
              0.6666666666666666,
              "#ed7953"
             ],
             [
              0.7777777777777778,
              "#fb9f3a"
             ],
             [
              0.8888888888888888,
              "#fdca26"
             ],
             [
              1,
              "#f0f921"
             ]
            ],
            "type": "contour"
           }
          ],
          "contourcarpet": [
           {
            "colorbar": {
             "outlinewidth": 0,
             "ticks": ""
            },
            "type": "contourcarpet"
           }
          ],
          "heatmap": [
           {
            "colorbar": {
             "outlinewidth": 0,
             "ticks": ""
            },
            "colorscale": [
             [
              0,
              "#0d0887"
             ],
             [
              0.1111111111111111,
              "#46039f"
             ],
             [
              0.2222222222222222,
              "#7201a8"
             ],
             [
              0.3333333333333333,
              "#9c179e"
             ],
             [
              0.4444444444444444,
              "#bd3786"
             ],
             [
              0.5555555555555556,
              "#d8576b"
             ],
             [
              0.6666666666666666,
              "#ed7953"
             ],
             [
              0.7777777777777778,
              "#fb9f3a"
             ],
             [
              0.8888888888888888,
              "#fdca26"
             ],
             [
              1,
              "#f0f921"
             ]
            ],
            "type": "heatmap"
           }
          ],
          "heatmapgl": [
           {
            "colorbar": {
             "outlinewidth": 0,
             "ticks": ""
            },
            "colorscale": [
             [
              0,
              "#0d0887"
             ],
             [
              0.1111111111111111,
              "#46039f"
             ],
             [
              0.2222222222222222,
              "#7201a8"
             ],
             [
              0.3333333333333333,
              "#9c179e"
             ],
             [
              0.4444444444444444,
              "#bd3786"
             ],
             [
              0.5555555555555556,
              "#d8576b"
             ],
             [
              0.6666666666666666,
              "#ed7953"
             ],
             [
              0.7777777777777778,
              "#fb9f3a"
             ],
             [
              0.8888888888888888,
              "#fdca26"
             ],
             [
              1,
              "#f0f921"
             ]
            ],
            "type": "heatmapgl"
           }
          ],
          "histogram": [
           {
            "marker": {
             "pattern": {
              "fillmode": "overlay",
              "size": 10,
              "solidity": 0.2
             }
            },
            "type": "histogram"
           }
          ],
          "histogram2d": [
           {
            "colorbar": {
             "outlinewidth": 0,
             "ticks": ""
            },
            "colorscale": [
             [
              0,
              "#0d0887"
             ],
             [
              0.1111111111111111,
              "#46039f"
             ],
             [
              0.2222222222222222,
              "#7201a8"
             ],
             [
              0.3333333333333333,
              "#9c179e"
             ],
             [
              0.4444444444444444,
              "#bd3786"
             ],
             [
              0.5555555555555556,
              "#d8576b"
             ],
             [
              0.6666666666666666,
              "#ed7953"
             ],
             [
              0.7777777777777778,
              "#fb9f3a"
             ],
             [
              0.8888888888888888,
              "#fdca26"
             ],
             [
              1,
              "#f0f921"
             ]
            ],
            "type": "histogram2d"
           }
          ],
          "histogram2dcontour": [
           {
            "colorbar": {
             "outlinewidth": 0,
             "ticks": ""
            },
            "colorscale": [
             [
              0,
              "#0d0887"
             ],
             [
              0.1111111111111111,
              "#46039f"
             ],
             [
              0.2222222222222222,
              "#7201a8"
             ],
             [
              0.3333333333333333,
              "#9c179e"
             ],
             [
              0.4444444444444444,
              "#bd3786"
             ],
             [
              0.5555555555555556,
              "#d8576b"
             ],
             [
              0.6666666666666666,
              "#ed7953"
             ],
             [
              0.7777777777777778,
              "#fb9f3a"
             ],
             [
              0.8888888888888888,
              "#fdca26"
             ],
             [
              1,
              "#f0f921"
             ]
            ],
            "type": "histogram2dcontour"
           }
          ],
          "mesh3d": [
           {
            "colorbar": {
             "outlinewidth": 0,
             "ticks": ""
            },
            "type": "mesh3d"
           }
          ],
          "parcoords": [
           {
            "line": {
             "colorbar": {
              "outlinewidth": 0,
              "ticks": ""
             }
            },
            "type": "parcoords"
           }
          ],
          "pie": [
           {
            "automargin": true,
            "type": "pie"
           }
          ],
          "scatter": [
           {
            "fillpattern": {
             "fillmode": "overlay",
             "size": 10,
             "solidity": 0.2
            },
            "type": "scatter"
           }
          ],
          "scatter3d": [
           {
            "line": {
             "colorbar": {
              "outlinewidth": 0,
              "ticks": ""
             }
            },
            "marker": {
             "colorbar": {
              "outlinewidth": 0,
              "ticks": ""
             }
            },
            "type": "scatter3d"
           }
          ],
          "scattercarpet": [
           {
            "marker": {
             "colorbar": {
              "outlinewidth": 0,
              "ticks": ""
             }
            },
            "type": "scattercarpet"
           }
          ],
          "scattergeo": [
           {
            "marker": {
             "colorbar": {
              "outlinewidth": 0,
              "ticks": ""
             }
            },
            "type": "scattergeo"
           }
          ],
          "scattergl": [
           {
            "marker": {
             "colorbar": {
              "outlinewidth": 0,
              "ticks": ""
             }
            },
            "type": "scattergl"
           }
          ],
          "scattermapbox": [
           {
            "marker": {
             "colorbar": {
              "outlinewidth": 0,
              "ticks": ""
             }
            },
            "type": "scattermapbox"
           }
          ],
          "scatterpolar": [
           {
            "marker": {
             "colorbar": {
              "outlinewidth": 0,
              "ticks": ""
             }
            },
            "type": "scatterpolar"
           }
          ],
          "scatterpolargl": [
           {
            "marker": {
             "colorbar": {
              "outlinewidth": 0,
              "ticks": ""
             }
            },
            "type": "scatterpolargl"
           }
          ],
          "scatterternary": [
           {
            "marker": {
             "colorbar": {
              "outlinewidth": 0,
              "ticks": ""
             }
            },
            "type": "scatterternary"
           }
          ],
          "surface": [
           {
            "colorbar": {
             "outlinewidth": 0,
             "ticks": ""
            },
            "colorscale": [
             [
              0,
              "#0d0887"
             ],
             [
              0.1111111111111111,
              "#46039f"
             ],
             [
              0.2222222222222222,
              "#7201a8"
             ],
             [
              0.3333333333333333,
              "#9c179e"
             ],
             [
              0.4444444444444444,
              "#bd3786"
             ],
             [
              0.5555555555555556,
              "#d8576b"
             ],
             [
              0.6666666666666666,
              "#ed7953"
             ],
             [
              0.7777777777777778,
              "#fb9f3a"
             ],
             [
              0.8888888888888888,
              "#fdca26"
             ],
             [
              1,
              "#f0f921"
             ]
            ],
            "type": "surface"
           }
          ],
          "table": [
           {
            "cells": {
             "fill": {
              "color": "#EBF0F8"
             },
             "line": {
              "color": "white"
             }
            },
            "header": {
             "fill": {
              "color": "#C8D4E3"
             },
             "line": {
              "color": "white"
             }
            },
            "type": "table"
           }
          ]
         },
         "layout": {
          "annotationdefaults": {
           "arrowcolor": "#2a3f5f",
           "arrowhead": 0,
           "arrowwidth": 1
          },
          "autotypenumbers": "strict",
          "coloraxis": {
           "colorbar": {
            "outlinewidth": 0,
            "ticks": ""
           }
          },
          "colorscale": {
           "diverging": [
            [
             0,
             "#8e0152"
            ],
            [
             0.1,
             "#c51b7d"
            ],
            [
             0.2,
             "#de77ae"
            ],
            [
             0.3,
             "#f1b6da"
            ],
            [
             0.4,
             "#fde0ef"
            ],
            [
             0.5,
             "#f7f7f7"
            ],
            [
             0.6,
             "#e6f5d0"
            ],
            [
             0.7,
             "#b8e186"
            ],
            [
             0.8,
             "#7fbc41"
            ],
            [
             0.9,
             "#4d9221"
            ],
            [
             1,
             "#276419"
            ]
           ],
           "sequential": [
            [
             0,
             "#0d0887"
            ],
            [
             0.1111111111111111,
             "#46039f"
            ],
            [
             0.2222222222222222,
             "#7201a8"
            ],
            [
             0.3333333333333333,
             "#9c179e"
            ],
            [
             0.4444444444444444,
             "#bd3786"
            ],
            [
             0.5555555555555556,
             "#d8576b"
            ],
            [
             0.6666666666666666,
             "#ed7953"
            ],
            [
             0.7777777777777778,
             "#fb9f3a"
            ],
            [
             0.8888888888888888,
             "#fdca26"
            ],
            [
             1,
             "#f0f921"
            ]
           ],
           "sequentialminus": [
            [
             0,
             "#0d0887"
            ],
            [
             0.1111111111111111,
             "#46039f"
            ],
            [
             0.2222222222222222,
             "#7201a8"
            ],
            [
             0.3333333333333333,
             "#9c179e"
            ],
            [
             0.4444444444444444,
             "#bd3786"
            ],
            [
             0.5555555555555556,
             "#d8576b"
            ],
            [
             0.6666666666666666,
             "#ed7953"
            ],
            [
             0.7777777777777778,
             "#fb9f3a"
            ],
            [
             0.8888888888888888,
             "#fdca26"
            ],
            [
             1,
             "#f0f921"
            ]
           ]
          },
          "colorway": [
           "#636efa",
           "#EF553B",
           "#00cc96",
           "#ab63fa",
           "#FFA15A",
           "#19d3f3",
           "#FF6692",
           "#B6E880",
           "#FF97FF",
           "#FECB52"
          ],
          "font": {
           "color": "#2a3f5f"
          },
          "geo": {
           "bgcolor": "white",
           "lakecolor": "white",
           "landcolor": "#E5ECF6",
           "showlakes": true,
           "showland": true,
           "subunitcolor": "white"
          },
          "hoverlabel": {
           "align": "left"
          },
          "hovermode": "closest",
          "mapbox": {
           "style": "light"
          },
          "paper_bgcolor": "white",
          "plot_bgcolor": "#E5ECF6",
          "polar": {
           "angularaxis": {
            "gridcolor": "white",
            "linecolor": "white",
            "ticks": ""
           },
           "bgcolor": "#E5ECF6",
           "radialaxis": {
            "gridcolor": "white",
            "linecolor": "white",
            "ticks": ""
           }
          },
          "scene": {
           "xaxis": {
            "backgroundcolor": "#E5ECF6",
            "gridcolor": "white",
            "gridwidth": 2,
            "linecolor": "white",
            "showbackground": true,
            "ticks": "",
            "zerolinecolor": "white"
           },
           "yaxis": {
            "backgroundcolor": "#E5ECF6",
            "gridcolor": "white",
            "gridwidth": 2,
            "linecolor": "white",
            "showbackground": true,
            "ticks": "",
            "zerolinecolor": "white"
           },
           "zaxis": {
            "backgroundcolor": "#E5ECF6",
            "gridcolor": "white",
            "gridwidth": 2,
            "linecolor": "white",
            "showbackground": true,
            "ticks": "",
            "zerolinecolor": "white"
           }
          },
          "shapedefaults": {
           "line": {
            "color": "#2a3f5f"
           }
          },
          "ternary": {
           "aaxis": {
            "gridcolor": "white",
            "linecolor": "white",
            "ticks": ""
           },
           "baxis": {
            "gridcolor": "white",
            "linecolor": "white",
            "ticks": ""
           },
           "bgcolor": "#E5ECF6",
           "caxis": {
            "gridcolor": "white",
            "linecolor": "white",
            "ticks": ""
           }
          },
          "title": {
           "x": 0.05
          },
          "xaxis": {
           "automargin": true,
           "gridcolor": "white",
           "linecolor": "white",
           "ticks": "",
           "title": {
            "standoff": 15
           },
           "zerolinecolor": "white",
           "zerolinewidth": 2
          },
          "yaxis": {
           "automargin": true,
           "gridcolor": "white",
           "linecolor": "white",
           "ticks": "",
           "title": {
            "standoff": 15
           },
           "zerolinecolor": "white",
           "zerolinewidth": 2
          }
         }
        },
        "title": {
         "text": "Male vs Female Vaccinated"
        }
       }
      },
      "text/html": [
       "<div>                            <div id=\"42baa512-c1d0-47c6-84a5-9192c7906dc9\" class=\"plotly-graph-div\" style=\"height:525px; width:100%;\"></div>            <script type=\"text/javascript\">                require([\"plotly\"], function(Plotly) {                    window.PLOTLYENV=window.PLOTLYENV || {};                                    if (document.getElementById(\"42baa512-c1d0-47c6-84a5-9192c7906dc9\")) {                    Plotly.newPlot(                        \"42baa512-c1d0-47c6-84a5-9192c7906dc9\",                        [{\"domain\":{\"x\":[0.0,1.0],\"y\":[0.0,1.0]},\"hovertemplate\":\"label=%{label}<br>value=%{value}<extra></extra>\",\"labels\":[\"Male\",\"Female\"],\"legendgroup\":\"\",\"name\":\"\",\"showlegend\":true,\"values\":[7138698858.0,6321628736.0],\"type\":\"pie\"}],                        {\"template\":{\"data\":{\"histogram2dcontour\":[{\"type\":\"histogram2dcontour\",\"colorbar\":{\"outlinewidth\":0,\"ticks\":\"\"},\"colorscale\":[[0.0,\"#0d0887\"],[0.1111111111111111,\"#46039f\"],[0.2222222222222222,\"#7201a8\"],[0.3333333333333333,\"#9c179e\"],[0.4444444444444444,\"#bd3786\"],[0.5555555555555556,\"#d8576b\"],[0.6666666666666666,\"#ed7953\"],[0.7777777777777778,\"#fb9f3a\"],[0.8888888888888888,\"#fdca26\"],[1.0,\"#f0f921\"]]}],\"choropleth\":[{\"type\":\"choropleth\",\"colorbar\":{\"outlinewidth\":0,\"ticks\":\"\"}}],\"histogram2d\":[{\"type\":\"histogram2d\",\"colorbar\":{\"outlinewidth\":0,\"ticks\":\"\"},\"colorscale\":[[0.0,\"#0d0887\"],[0.1111111111111111,\"#46039f\"],[0.2222222222222222,\"#7201a8\"],[0.3333333333333333,\"#9c179e\"],[0.4444444444444444,\"#bd3786\"],[0.5555555555555556,\"#d8576b\"],[0.6666666666666666,\"#ed7953\"],[0.7777777777777778,\"#fb9f3a\"],[0.8888888888888888,\"#fdca26\"],[1.0,\"#f0f921\"]]}],\"heatmap\":[{\"type\":\"heatmap\",\"colorbar\":{\"outlinewidth\":0,\"ticks\":\"\"},\"colorscale\":[[0.0,\"#0d0887\"],[0.1111111111111111,\"#46039f\"],[0.2222222222222222,\"#7201a8\"],[0.3333333333333333,\"#9c179e\"],[0.4444444444444444,\"#bd3786\"],[0.5555555555555556,\"#d8576b\"],[0.6666666666666666,\"#ed7953\"],[0.7777777777777778,\"#fb9f3a\"],[0.8888888888888888,\"#fdca26\"],[1.0,\"#f0f921\"]]}],\"heatmapgl\":[{\"type\":\"heatmapgl\",\"colorbar\":{\"outlinewidth\":0,\"ticks\":\"\"},\"colorscale\":[[0.0,\"#0d0887\"],[0.1111111111111111,\"#46039f\"],[0.2222222222222222,\"#7201a8\"],[0.3333333333333333,\"#9c179e\"],[0.4444444444444444,\"#bd3786\"],[0.5555555555555556,\"#d8576b\"],[0.6666666666666666,\"#ed7953\"],[0.7777777777777778,\"#fb9f3a\"],[0.8888888888888888,\"#fdca26\"],[1.0,\"#f0f921\"]]}],\"contourcarpet\":[{\"type\":\"contourcarpet\",\"colorbar\":{\"outlinewidth\":0,\"ticks\":\"\"}}],\"contour\":[{\"type\":\"contour\",\"colorbar\":{\"outlinewidth\":0,\"ticks\":\"\"},\"colorscale\":[[0.0,\"#0d0887\"],[0.1111111111111111,\"#46039f\"],[0.2222222222222222,\"#7201a8\"],[0.3333333333333333,\"#9c179e\"],[0.4444444444444444,\"#bd3786\"],[0.5555555555555556,\"#d8576b\"],[0.6666666666666666,\"#ed7953\"],[0.7777777777777778,\"#fb9f3a\"],[0.8888888888888888,\"#fdca26\"],[1.0,\"#f0f921\"]]}],\"surface\":[{\"type\":\"surface\",\"colorbar\":{\"outlinewidth\":0,\"ticks\":\"\"},\"colorscale\":[[0.0,\"#0d0887\"],[0.1111111111111111,\"#46039f\"],[0.2222222222222222,\"#7201a8\"],[0.3333333333333333,\"#9c179e\"],[0.4444444444444444,\"#bd3786\"],[0.5555555555555556,\"#d8576b\"],[0.6666666666666666,\"#ed7953\"],[0.7777777777777778,\"#fb9f3a\"],[0.8888888888888888,\"#fdca26\"],[1.0,\"#f0f921\"]]}],\"mesh3d\":[{\"type\":\"mesh3d\",\"colorbar\":{\"outlinewidth\":0,\"ticks\":\"\"}}],\"scatter\":[{\"fillpattern\":{\"fillmode\":\"overlay\",\"size\":10,\"solidity\":0.2},\"type\":\"scatter\"}],\"parcoords\":[{\"type\":\"parcoords\",\"line\":{\"colorbar\":{\"outlinewidth\":0,\"ticks\":\"\"}}}],\"scatterpolargl\":[{\"type\":\"scatterpolargl\",\"marker\":{\"colorbar\":{\"outlinewidth\":0,\"ticks\":\"\"}}}],\"bar\":[{\"error_x\":{\"color\":\"#2a3f5f\"},\"error_y\":{\"color\":\"#2a3f5f\"},\"marker\":{\"line\":{\"color\":\"#E5ECF6\",\"width\":0.5},\"pattern\":{\"fillmode\":\"overlay\",\"size\":10,\"solidity\":0.2}},\"type\":\"bar\"}],\"scattergeo\":[{\"type\":\"scattergeo\",\"marker\":{\"colorbar\":{\"outlinewidth\":0,\"ticks\":\"\"}}}],\"scatterpolar\":[{\"type\":\"scatterpolar\",\"marker\":{\"colorbar\":{\"outlinewidth\":0,\"ticks\":\"\"}}}],\"histogram\":[{\"marker\":{\"pattern\":{\"fillmode\":\"overlay\",\"size\":10,\"solidity\":0.2}},\"type\":\"histogram\"}],\"scattergl\":[{\"type\":\"scattergl\",\"marker\":{\"colorbar\":{\"outlinewidth\":0,\"ticks\":\"\"}}}],\"scatter3d\":[{\"type\":\"scatter3d\",\"line\":{\"colorbar\":{\"outlinewidth\":0,\"ticks\":\"\"}},\"marker\":{\"colorbar\":{\"outlinewidth\":0,\"ticks\":\"\"}}}],\"scattermapbox\":[{\"type\":\"scattermapbox\",\"marker\":{\"colorbar\":{\"outlinewidth\":0,\"ticks\":\"\"}}}],\"scatterternary\":[{\"type\":\"scatterternary\",\"marker\":{\"colorbar\":{\"outlinewidth\":0,\"ticks\":\"\"}}}],\"scattercarpet\":[{\"type\":\"scattercarpet\",\"marker\":{\"colorbar\":{\"outlinewidth\":0,\"ticks\":\"\"}}}],\"carpet\":[{\"aaxis\":{\"endlinecolor\":\"#2a3f5f\",\"gridcolor\":\"white\",\"linecolor\":\"white\",\"minorgridcolor\":\"white\",\"startlinecolor\":\"#2a3f5f\"},\"baxis\":{\"endlinecolor\":\"#2a3f5f\",\"gridcolor\":\"white\",\"linecolor\":\"white\",\"minorgridcolor\":\"white\",\"startlinecolor\":\"#2a3f5f\"},\"type\":\"carpet\"}],\"table\":[{\"cells\":{\"fill\":{\"color\":\"#EBF0F8\"},\"line\":{\"color\":\"white\"}},\"header\":{\"fill\":{\"color\":\"#C8D4E3\"},\"line\":{\"color\":\"white\"}},\"type\":\"table\"}],\"barpolar\":[{\"marker\":{\"line\":{\"color\":\"#E5ECF6\",\"width\":0.5},\"pattern\":{\"fillmode\":\"overlay\",\"size\":10,\"solidity\":0.2}},\"type\":\"barpolar\"}],\"pie\":[{\"automargin\":true,\"type\":\"pie\"}]},\"layout\":{\"autotypenumbers\":\"strict\",\"colorway\":[\"#636efa\",\"#EF553B\",\"#00cc96\",\"#ab63fa\",\"#FFA15A\",\"#19d3f3\",\"#FF6692\",\"#B6E880\",\"#FF97FF\",\"#FECB52\"],\"font\":{\"color\":\"#2a3f5f\"},\"hovermode\":\"closest\",\"hoverlabel\":{\"align\":\"left\"},\"paper_bgcolor\":\"white\",\"plot_bgcolor\":\"#E5ECF6\",\"polar\":{\"bgcolor\":\"#E5ECF6\",\"angularaxis\":{\"gridcolor\":\"white\",\"linecolor\":\"white\",\"ticks\":\"\"},\"radialaxis\":{\"gridcolor\":\"white\",\"linecolor\":\"white\",\"ticks\":\"\"}},\"ternary\":{\"bgcolor\":\"#E5ECF6\",\"aaxis\":{\"gridcolor\":\"white\",\"linecolor\":\"white\",\"ticks\":\"\"},\"baxis\":{\"gridcolor\":\"white\",\"linecolor\":\"white\",\"ticks\":\"\"},\"caxis\":{\"gridcolor\":\"white\",\"linecolor\":\"white\",\"ticks\":\"\"}},\"coloraxis\":{\"colorbar\":{\"outlinewidth\":0,\"ticks\":\"\"}},\"colorscale\":{\"sequential\":[[0.0,\"#0d0887\"],[0.1111111111111111,\"#46039f\"],[0.2222222222222222,\"#7201a8\"],[0.3333333333333333,\"#9c179e\"],[0.4444444444444444,\"#bd3786\"],[0.5555555555555556,\"#d8576b\"],[0.6666666666666666,\"#ed7953\"],[0.7777777777777778,\"#fb9f3a\"],[0.8888888888888888,\"#fdca26\"],[1.0,\"#f0f921\"]],\"sequentialminus\":[[0.0,\"#0d0887\"],[0.1111111111111111,\"#46039f\"],[0.2222222222222222,\"#7201a8\"],[0.3333333333333333,\"#9c179e\"],[0.4444444444444444,\"#bd3786\"],[0.5555555555555556,\"#d8576b\"],[0.6666666666666666,\"#ed7953\"],[0.7777777777777778,\"#fb9f3a\"],[0.8888888888888888,\"#fdca26\"],[1.0,\"#f0f921\"]],\"diverging\":[[0,\"#8e0152\"],[0.1,\"#c51b7d\"],[0.2,\"#de77ae\"],[0.3,\"#f1b6da\"],[0.4,\"#fde0ef\"],[0.5,\"#f7f7f7\"],[0.6,\"#e6f5d0\"],[0.7,\"#b8e186\"],[0.8,\"#7fbc41\"],[0.9,\"#4d9221\"],[1,\"#276419\"]]},\"xaxis\":{\"gridcolor\":\"white\",\"linecolor\":\"white\",\"ticks\":\"\",\"title\":{\"standoff\":15},\"zerolinecolor\":\"white\",\"automargin\":true,\"zerolinewidth\":2},\"yaxis\":{\"gridcolor\":\"white\",\"linecolor\":\"white\",\"ticks\":\"\",\"title\":{\"standoff\":15},\"zerolinecolor\":\"white\",\"automargin\":true,\"zerolinewidth\":2},\"scene\":{\"xaxis\":{\"backgroundcolor\":\"#E5ECF6\",\"gridcolor\":\"white\",\"linecolor\":\"white\",\"showbackground\":true,\"ticks\":\"\",\"zerolinecolor\":\"white\",\"gridwidth\":2},\"yaxis\":{\"backgroundcolor\":\"#E5ECF6\",\"gridcolor\":\"white\",\"linecolor\":\"white\",\"showbackground\":true,\"ticks\":\"\",\"zerolinecolor\":\"white\",\"gridwidth\":2},\"zaxis\":{\"backgroundcolor\":\"#E5ECF6\",\"gridcolor\":\"white\",\"linecolor\":\"white\",\"showbackground\":true,\"ticks\":\"\",\"zerolinecolor\":\"white\",\"gridwidth\":2}},\"shapedefaults\":{\"line\":{\"color\":\"#2a3f5f\"}},\"annotationdefaults\":{\"arrowcolor\":\"#2a3f5f\",\"arrowhead\":0,\"arrowwidth\":1},\"geo\":{\"bgcolor\":\"white\",\"landcolor\":\"#E5ECF6\",\"subunitcolor\":\"white\",\"showland\":true,\"showlakes\":true,\"lakecolor\":\"white\"},\"title\":{\"x\":0.05},\"mapbox\":{\"style\":\"light\"}}},\"legend\":{\"tracegroupgap\":0},\"title\":{\"text\":\"Male vs Female Vaccinated\"}},                        {\"responsive\": true}                    ).then(function(){\n",
       "                            \n",
       "var gd = document.getElementById('42baa512-c1d0-47c6-84a5-9192c7906dc9');\n",
       "var x = new MutationObserver(function (mutations, observer) {{\n",
       "        var display = window.getComputedStyle(gd).display;\n",
       "        if (!display || display === 'none') {{\n",
       "            console.log([gd, 'removed!']);\n",
       "            Plotly.purge(gd);\n",
       "            observer.disconnect();\n",
       "        }}\n",
       "}});\n",
       "\n",
       "// Listen for the removal of the full notebook cells\n",
       "var notebookContainer = gd.closest('#notebook-container');\n",
       "if (notebookContainer) {{\n",
       "    x.observe(notebookContainer, {childList: true});\n",
       "}}\n",
       "\n",
       "// Listen for the clearing of the current output cell\n",
       "var outputEl = gd.closest('.output');\n",
       "if (outputEl) {{\n",
       "    x.observe(outputEl, {childList: true});\n",
       "}}\n",
       "\n",
       "                        })                };                });            </script>        </div>"
      ]
     },
     "metadata": {},
     "output_type": "display_data"
    }
   ],
   "source": [
    "px.pie(values = [Male,Female], names = ['Male','Female'], title = 'Male vs Female Vaccinated')"
   ]
  },
  {
   "cell_type": "markdown",
   "id": "d52f34ba",
   "metadata": {},
   "source": [
    "#### Filter vaccine data by excluding rows that contain 'India' in the 'State' column"
   ]
  },
  {
   "cell_type": "code",
   "execution_count": 24,
   "id": "87b712f1",
   "metadata": {},
   "outputs": [],
   "source": [
    "vaccine = vaccine_df[vaccine_df.State != 'India']"
   ]
  },
  {
   "cell_type": "markdown",
   "id": "04fecbbb",
   "metadata": {},
   "source": [
    "#### Calculate the top 5 states with the highest total vaccinations"
   ]
  },
  {
   "cell_type": "code",
   "execution_count": 25,
   "id": "ab4f2ac8",
   "metadata": {},
   "outputs": [],
   "source": [
    "max = vaccine.groupby(by = 'State')['Total'].sum().to_frame('Total')\n",
    "max = max.sort_values('Total', ascending = False)[:5]"
   ]
  },
  {
   "cell_type": "markdown",
   "id": "5ab83f29",
   "metadata": {},
   "source": [
    "#### 5. Creates a bar plot to visualize the top 5 states in India with the highest total vaccinations"
   ]
  },
  {
   "cell_type": "code",
   "execution_count": 34,
   "id": "15defa9d",
   "metadata": {},
   "outputs": [
    {
     "data": {
      "text/plain": [
       "<Axes: title={'center': 'Top 5 vaccinated states in India'}, xlabel='State', ylabel='Total'>"
      ]
     },
     "execution_count": 34,
     "metadata": {},
     "output_type": "execute_result"
    },
    {
     "data": {
      "image/png": "[encoded data removed]",
      "text/plain": [
       "<Figure size 1400x700 with 1 Axes>"
      ]
     },
     "metadata": {},
     "output_type": "display_data"
    }
   ],
   "source": [
    "plt.figure(figsize = (14,7))\n",
    "plt.title('Top 5 vaccinated states in India', size = 15)\n",
    "sns.barplot(data = max.iloc[:5], x = max.index, y = max.Total)"
   ]
  },
  {
   "cell_type": "markdown",
   "id": "9c195645",
   "metadata": {},
   "source": [
    "#### Calculate the bottom 5 states with the lowest total vaccinations"
   ]
  },
  {
   "cell_type": "code",
   "execution_count": 35,
   "id": "046e22c7",
   "metadata": {},
   "outputs": [],
   "source": [
    "min = vaccine.groupby(by = 'State')['Total'].sum().to_frame('Total')\n",
    "min = min.sort_values('Total', ascending = True)[:5]\n",
    "min = min.sort_values('Total', ascending =  False)"
   ]
  },
  {
   "cell_type": "markdown",
   "id": "a31a1222",
   "metadata": {},
   "source": [
    "#### 6. Creates a bar plot to visualize the bottom 5 states in India with the lowest total vaccinations"
   ]
  },
  {
   "cell_type": "code",
   "execution_count": 36,
   "id": "cb340682",
   "metadata": {},
   "outputs": [
    {
     "data": {
      "text/plain": [
       "<Axes: title={'center': 'Least 5 vaccinated states in India'}, xlabel='State', ylabel='Total'>"
      ]
     },
     "execution_count": 36,
     "metadata": {},
     "output_type": "execute_result"
    },
    {
     "data": {
      "image/png": "[encoded data removed]",
      "text/plain": [
       "<Figure size 1400x700 with 1 Axes>"
      ]
     },
     "metadata": {},
     "output_type": "display_data"
    }
   ],
   "source": [
    "plt.figure(figsize = (14,7))\n",
    "plt.title('Least 5 vaccinated states in India', size = 15)\n",
    "sns.barplot(data = min.iloc[:5], x = min.index, y = min.Total)"
   ]
  }
 ],
 "metadata": {
  "kernelspec": {
   "display_name": "Python 3 (ipykernel)",
   "language": "python",
   "name": "python3"
  },
  "language_info": {
   "codemirror_mode": {
    "name": "ipython",
    "version": 3
   },
   "file_extension": ".py",
   "mimetype": "text/x-python",
   "name": "python",
   "nbconvert_exporter": "python",
   "pygments_lexer": "ipython3",
   "version": "3.11.5"
  }
 },
 "nbformat": 4,
 "nbformat_minor": 5
}
