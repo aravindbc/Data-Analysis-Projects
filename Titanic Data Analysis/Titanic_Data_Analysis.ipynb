{
 "cells": [
  {
   "cell_type": "markdown",
   "id": "3452c66f",
   "metadata": {},
   "source": [
    "###### Import necessary libraries"
   ]
  },
  {
   "cell_type": "code",
   "execution_count": 21,
   "id": "01e53f5b",
   "metadata": {},
   "outputs": [],
   "source": [
    "import pandas as pd\n",
    "import matplotlib.pyplot as plt\n",
    "import seaborn as sns"
   ]
  },
  {
   "cell_type": "markdown",
   "id": "a107ea24",
   "metadata": {},
   "source": [
    "###### Load the Titanic dataset"
   ]
  },
  {
   "cell_type": "code",
   "execution_count": 2,
   "id": "c76a2ef2",
   "metadata": {},
   "outputs": [],
   "source": [
    "data = pd.read_csv('titanic.csv')"
   ]
  },
  {
   "cell_type": "code",
   "execution_count": 3,
   "id": "bba65479",
   "metadata": {},
   "outputs": [
    {
     "data": {
      "text/html": [
       "<div>\n",
       "<style scoped>\n",
       "    .dataframe tbody tr th:only-of-type {\n",
       "        vertical-align: middle;\n",
       "    }\n",
       "\n",
       "    .dataframe tbody tr th {\n",
       "        vertical-align: top;\n",
       "    }\n",
       "\n",
       "    .dataframe thead th {\n",
       "        text-align: right;\n",
       "    }\n",
       "</style>\n",
       "<table border=\"1\" class=\"dataframe\">\n",
       "  <thead>\n",
       "    <tr style=\"text-align: right;\">\n",
       "      <th></th>\n",
       "      <th>PassengerId</th>\n",
       "      <th>Survived</th>\n",
       "      <th>Pclass</th>\n",
       "      <th>Name</th>\n",
       "      <th>Sex</th>\n",
       "      <th>Age</th>\n",
       "      <th>SibSp</th>\n",
       "      <th>Parch</th>\n",
       "      <th>Ticket</th>\n",
       "      <th>Fare</th>\n",
       "      <th>Cabin</th>\n",
       "      <th>Embarked</th>\n",
       "    </tr>\n",
       "  </thead>\n",
       "  <tbody>\n",
       "    <tr>\n",
       "      <th>0</th>\n",
       "      <td>1</td>\n",
       "      <td>0</td>\n",
       "      <td>3</td>\n",
       "      <td>Braund, Mr. Owen Harris</td>\n",
       "      <td>male</td>\n",
       "      <td>22.0</td>\n",
       "      <td>1</td>\n",
       "      <td>0</td>\n",
       "      <td>A/5 21171</td>\n",
       "      <td>7.2500</td>\n",
       "      <td>NaN</td>\n",
       "      <td>S</td>\n",
       "    </tr>\n",
       "    <tr>\n",
       "      <th>1</th>\n",
       "      <td>2</td>\n",
       "      <td>1</td>\n",
       "      <td>1</td>\n",
       "      <td>Cumings, Mrs. John Bradley (Florence Briggs Th...</td>\n",
       "      <td>female</td>\n",
       "      <td>38.0</td>\n",
       "      <td>1</td>\n",
       "      <td>0</td>\n",
       "      <td>PC 17599</td>\n",
       "      <td>71.2833</td>\n",
       "      <td>C85</td>\n",
       "      <td>C</td>\n",
       "    </tr>\n",
       "    <tr>\n",
       "      <th>2</th>\n",
       "      <td>3</td>\n",
       "      <td>1</td>\n",
       "      <td>3</td>\n",
       "      <td>Heikkinen, Miss. Laina</td>\n",
       "      <td>female</td>\n",
       "      <td>26.0</td>\n",
       "      <td>0</td>\n",
       "      <td>0</td>\n",
       "      <td>STON/O2. 3101282</td>\n",
       "      <td>7.9250</td>\n",
       "      <td>NaN</td>\n",
       "      <td>S</td>\n",
       "    </tr>\n",
       "    <tr>\n",
       "      <th>3</th>\n",
       "      <td>4</td>\n",
       "      <td>1</td>\n",
       "      <td>1</td>\n",
       "      <td>Futrelle, Mrs. Jacques Heath (Lily May Peel)</td>\n",
       "      <td>female</td>\n",
       "      <td>35.0</td>\n",
       "      <td>1</td>\n",
       "      <td>0</td>\n",
       "      <td>113803</td>\n",
       "      <td>53.1000</td>\n",
       "      <td>C123</td>\n",
       "      <td>S</td>\n",
       "    </tr>\n",
       "    <tr>\n",
       "      <th>4</th>\n",
       "      <td>5</td>\n",
       "      <td>0</td>\n",
       "      <td>3</td>\n",
       "      <td>Allen, Mr. William Henry</td>\n",
       "      <td>male</td>\n",
       "      <td>35.0</td>\n",
       "      <td>0</td>\n",
       "      <td>0</td>\n",
       "      <td>373450</td>\n",
       "      <td>8.0500</td>\n",
       "      <td>NaN</td>\n",
       "      <td>S</td>\n",
       "    </tr>\n",
       "  </tbody>\n",
       "</table>\n",
       "</div>"
      ],
      "text/plain": [
       "   PassengerId  Survived  Pclass   \n",
       "0            1         0       3  \\\n",
       "1            2         1       1   \n",
       "2            3         1       3   \n",
       "3            4         1       1   \n",
       "4            5         0       3   \n",
       "\n",
       "                                                Name     Sex   Age  SibSp   \n",
       "0                            Braund, Mr. Owen Harris    male  22.0      1  \\\n",
       "1  Cumings, Mrs. John Bradley (Florence Briggs Th...  female  38.0      1   \n",
       "2                             Heikkinen, Miss. Laina  female  26.0      0   \n",
       "3       Futrelle, Mrs. Jacques Heath (Lily May Peel)  female  35.0      1   \n",
       "4                           Allen, Mr. William Henry    male  35.0      0   \n",
       "\n",
       "   Parch            Ticket     Fare Cabin Embarked  \n",
       "0      0         A/5 21171   7.2500   NaN        S  \n",
       "1      0          PC 17599  71.2833   C85        C  \n",
       "2      0  STON/O2. 3101282   7.9250   NaN        S  \n",
       "3      0            113803  53.1000  C123        S  \n",
       "4      0            373450   8.0500   NaN        S  "
      ]
     },
     "execution_count": 3,
     "metadata": {},
     "output_type": "execute_result"
    }
   ],
   "source": [
    "data.head()"
   ]
  },
  {
   "cell_type": "markdown",
   "id": "77798245",
   "metadata": {},
   "source": [
    "### Exploratory Data Analysis (EDA)\n",
    "###### 1. How many rows and columns are there in the dataset?"
   ]
  },
  {
   "cell_type": "code",
   "execution_count": 4,
   "id": "86021fdc",
   "metadata": {},
   "outputs": [
    {
     "name": "stdout",
     "output_type": "stream",
     "text": [
      "Number of rows: 891\n",
      "Number of columns: 12\n"
     ]
    }
   ],
   "source": [
    "num_rows, num_cols = data.shape\n",
    "print('Number of rows:', num_rows)\n",
    "print('Number of columns:', num_cols)"
   ]
  },
  {
   "cell_type": "markdown",
   "id": "0d98ae2b",
   "metadata": {},
   "source": [
    "891 Passengers in the titanic (According to Google the number should be around 2240). This tells us the data quality might not be too good."
   ]
  },
  {
   "cell_type": "markdown",
   "id": "217b3063",
   "metadata": {},
   "source": [
    "###### 2. How many missing values are there in each column?"
   ]
  },
  {
   "cell_type": "code",
   "execution_count": 5,
   "id": "7b0d73f2",
   "metadata": {},
   "outputs": [
    {
     "data": {
      "text/plain": [
       "PassengerId      0\n",
       "Survived         0\n",
       "Pclass           0\n",
       "Name             0\n",
       "Sex              0\n",
       "Age            177\n",
       "SibSp            0\n",
       "Parch            0\n",
       "Ticket           0\n",
       "Fare             0\n",
       "Cabin          687\n",
       "Embarked         2\n",
       "dtype: int64"
      ]
     },
     "execution_count": 5,
     "metadata": {},
     "output_type": "execute_result"
    }
   ],
   "source": [
    "data.isnull().sum()"
   ]
  },
  {
   "cell_type": "markdown",
   "id": "cdfc421f",
   "metadata": {},
   "source": [
    "###### 3. Fill missing values for age, cabin, and embarked using appropriate strategies."
   ]
  },
  {
   "cell_type": "code",
   "execution_count": 27,
   "id": "ed8645b4",
   "metadata": {},
   "outputs": [
    {
     "name": "stdout",
     "output_type": "stream",
     "text": [
      "Missing values:\n",
      "PassengerId    0\n",
      "Survived       0\n",
      "Pclass         0\n",
      "Name           0\n",
      "Sex            0\n",
      "Age            0\n",
      "SibSp          0\n",
      "Parch          0\n",
      "Ticket         0\n",
      "Fare           0\n",
      "Cabin          0\n",
      "Embarked       0\n",
      "dtype: int64\n"
     ]
    }
   ],
   "source": [
    "from sklearn.impute import SimpleImputer\n",
    "\n",
    "#Age is a continuous variable hence we use average imputation.\n",
    "age_imputer = SimpleImputer(strategy='mean')\n",
    "data['Age'] = age_imputer.fit_transform(data[['Age']])\n",
    "\n",
    "#Cabin and Embarked are categorical variables, hence we use mode imputation instead of mean imputation.\n",
    "cabin_imputer = SimpleImputer(strategy='most_frequent')\n",
    "data['Cabin'] = cabin_imputer.fit_transform(data[['Cabin']].values.reshape(-1, 1))[:, 0]\n",
    "\n",
    "embarked_imputer = SimpleImputer(strategy='most_frequent')\n",
    "data['Embarked'] = embarked_imputer.fit_transform(data[['Embarked']].values.reshape(-1, 1))[:, 0]\n",
    "\n",
    "missing_values = data.isnull().sum()\n",
    "print(\"Missing values:\")\n",
    "print(missing_values)"
   ]
  },
  {
   "cell_type": "markdown",
   "id": "00e750d4",
   "metadata": {},
   "source": [
    "###### 4. What is the distribution of passenger classes?"
   ]
  },
  {
   "cell_type": "code",
   "execution_count": 17,
   "id": "a3ee4234",
   "metadata": {},
   "outputs": [
    {
     "name": "stdout",
     "output_type": "stream",
     "text": [
      "Passenger class distribution:\n",
      "Pclass\n",
      "3    491\n",
      "1    216\n",
      "2    184\n",
      "Name: count, dtype: int64\n"
     ]
    }
   ],
   "source": [
    "passenger_class = data['Pclass'].value_counts()\n",
    "print(\"Passenger class distribution:\")\n",
    "print(passenger_class)"
   ]
  },
  {
   "cell_type": "markdown",
   "id": "9d3282cf",
   "metadata": {},
   "source": [
    "###### 5. How many passengers embarked from each port?"
   ]
  },
  {
   "cell_type": "code",
   "execution_count": 18,
   "id": "5f779cf6",
   "metadata": {},
   "outputs": [
    {
     "name": "stdout",
     "output_type": "stream",
     "text": [
      "Passengers embarked from each port:\n",
      "Embarked\n",
      "S    644\n",
      "C    168\n",
      "Q     77\n",
      "Name: count, dtype: int64\n"
     ]
    }
   ],
   "source": [
    "embarked_counts = data['Embarked'].value_counts()\n",
    "print(\"Passengers embarked from each port:\")\n",
    "print(embarked_counts)"
   ]
  },
  {
   "cell_type": "markdown",
   "id": "4a4ef9c5",
   "metadata": {},
   "source": [
    "###### 6. What is the overall survival rate?"
   ]
  },
  {
   "cell_type": "code",
   "execution_count": 19,
   "id": "f1c40a15",
   "metadata": {},
   "outputs": [
    {
     "name": "stdout",
     "output_type": "stream",
     "text": [
      "Number of passengers who survived: 342\n"
     ]
    }
   ],
   "source": [
    "survived_count = data['Survived'].sum()\n",
    "\n",
    "print(\"Number of passengers who survived:\", survived_count)"
   ]
  },
  {
   "cell_type": "code",
   "execution_count": 20,
   "id": "a6bc6808",
   "metadata": {},
   "outputs": [
    {
     "name": "stdout",
     "output_type": "stream",
     "text": [
      "Survival rate: 38.38%\n"
     ]
    }
   ],
   "source": [
    "survival_rate = data['Survived'].mean() * 100\n",
    "print(\"Survival rate: {:.2f}%\".format(survival_rate))"
   ]
  },
  {
   "cell_type": "markdown",
   "id": "d5b967ee",
   "metadata": {},
   "source": [
    "### Data Visualization\n",
    "###### 1. Plotting survival rate by gender"
   ]
  },
  {
   "cell_type": "code",
   "execution_count": 22,
   "id": "40a81b0f",
   "metadata": {},
   "outputs": [
    {
     "data": {
      "text/plain": [
       "Text(0.5, 1.0, 'Survival Rate by Gender')"
      ]
     },
     "execution_count": 22,
     "metadata": {},
     "output_type": "execute_result"
    },
    {
     "data": {
      "image/png": "[encoded data removed]",
      "text/plain": [
       "<Figure size 640x480 with 1 Axes>"
      ]
     },
     "metadata": {},
     "output_type": "display_data"
    }
   ],
   "source": [
    "sns.barplot(x='Sex', y='Survived', data=data)\n",
    "plt.title(\"Survival Rate by Gender\")"
   ]
  },
  {
   "cell_type": "markdown",
   "id": "60a4f8c9",
   "metadata": {},
   "source": [
    "###### 2. Plotting survival rate by passenger class"
   ]
  },
  {
   "cell_type": "code",
   "execution_count": 23,
   "id": "9c3a184b",
   "metadata": {},
   "outputs": [
    {
     "data": {
      "text/plain": [
       "Text(0.5, 1.0, 'Survival Rate by Passenger Class')"
      ]
     },
     "execution_count": 23,
     "metadata": {},
     "output_type": "execute_result"
    },
    {
     "data": {
      "image/png": "[encoded data removed]",
      "text/plain": [
       "<Figure size 640x480 with 1 Axes>"
      ]
     },
     "metadata": {},
     "output_type": "display_data"
    }
   ],
   "source": [
    "sns.barplot(x='Pclass', y='Survived', data=data)\n",
    "plt.title(\"Survival Rate by Passenger Class\")"
   ]
  },
  {
   "cell_type": "markdown",
   "id": "73a1e229",
   "metadata": {},
   "source": [
    "###### 3. Plotting survival rate by embarked port"
   ]
  },
  {
   "cell_type": "code",
   "execution_count": 24,
   "id": "9afe8d68",
   "metadata": {},
   "outputs": [
    {
     "data": {
      "text/plain": [
       "Text(0.5, 1.0, 'Survival Rate by Embarked Ports')"
      ]
     },
     "execution_count": 24,
     "metadata": {},
     "output_type": "execute_result"
    },
    {
     "data": {
      "image/png": "[encoded data removed]",
      "text/plain": [
       "<Figure size 640x480 with 1 Axes>"
      ]
     },
     "metadata": {},
     "output_type": "display_data"
    }
   ],
   "source": [
    "sns.barplot(x='Embarked', y='Survived', data=data)\n",
    "plt.title(\"Survival Rate by Embarked Ports\")"
   ]
  },
  {
   "cell_type": "code",
   "execution_count": null,
   "id": "deb8a6d6",
   "metadata": {},
   "outputs": [],
   "source": []
  }
 ],
 "metadata": {
  "kernelspec": {
   "display_name": "Python 3 (ipykernel)",
   "language": "python",
   "name": "python3"
  },
  "language_info": {
   "codemirror_mode": {
    "name": "ipython",
    "version": 3
   },
   "file_extension": ".py",
   "mimetype": "text/x-python",
   "name": "python",
   "nbconvert_exporter": "python",
   "pygments_lexer": "ipython3",
   "version": "3.11.4"
  }
 },
 "nbformat": 4,
 "nbformat_minor": 5
}
